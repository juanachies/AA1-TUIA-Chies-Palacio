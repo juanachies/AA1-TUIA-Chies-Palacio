{
 "cells": [
  {
   "cell_type": "markdown",
   "id": "9e43a67d",
   "metadata": {},
   "source": [
    "# Trabajo Práctico N°2: Predicción de lluvia en Australia\n",
    "\n",
    "Integrantes: Sebastian Palacio, Juana Chies Doumecq"
   ]
  },
  {
   "cell_type": "markdown",
   "id": "9a71ea84",
   "metadata": {},
   "source": [
    "#### Contexto  \n",
    "El presente trabajo práctico se centra en el desarrollo de un modelo de predicción meteorológica utilizando técnicas de Machine Learning. El propósito principal es determinar, a partir de datos climáticos históricos de distintas ciudades de Australia, si lloverá o no al día siguiente. Para ello se emplea el dataset weatherAUS.csv, el cual contiene registros de los últimos diez años con variables como temperatura, humedad, presión atmosférica, dirección y velocidad del viento, entre otras, además de la variable objetivo ‘RainTomorrow’, que indica si al día siguiente se registró lluvia.\n",
    "\n",
    "### Variables del conjunto de datos  \n",
    "\n",
    "**Variables explicativas:**  \n",
    "- Date\n",
    "- Location\n",
    "- MinTemp\n",
    "- MaxTemp\n",
    "- Rainfall\n",
    "- Evaporation\n",
    "- Sunshine\n",
    "- WindGustDir\n",
    "- WindGustSpeed\n",
    "- WindDir9am\n",
    "- WindDir3pm\n",
    "- WindSpeed9am\n",
    "- WindSpeed3pm\n",
    "- Humidity9am\n",
    "- Humidity3pm\n",
    "- Pressure9am\n",
    "- Pressure3pm\n",
    "- Cloud9am\n",
    "- Cloud3pm\n",
    "- Temp9am\n",
    "- Temp3pm\n",
    "- RainToday\n",
    "- Latitude\n",
    "- Longitude\n",
    "- Region\n",
    "\n",
    "**Variable objetivo (target):**  \n",
    "- RainTomorrow"
   ]
  },
  {
   "cell_type": "markdown",
   "id": "5330a254",
   "metadata": {},
   "source": [
    "## TP2"
   ]
  },
  {
   "cell_type": "code",
   "execution_count": 272,
   "id": "a6a330c3",
   "metadata": {},
   "outputs": [],
   "source": [
    "import pandas as pd\n",
    "import numpy as np\n",
    "from sklearn.cluster import KMeans\n",
    "\n",
    "import matplotlib.pyplot as plt\n",
    "import seaborn as sns\n",
    "import plotly.express as px\n",
    "import matplotlib.colors as mcolors\n",
    "import warnings\n",
    "\n",
    "from sklearn.preprocessing import StandardScaler\n",
    "from sklearn.datasets import make_classification\n",
    "from sklearn.model_selection import train_test_split\n",
    "from sklearn.linear_model import LogisticRegression\n",
    "from sklearn.metrics import accuracy_score, precision_score, recall_score, f1_score\n",
    "from sklearn.metrics import accuracy_score, confusion_matrix, classification_report\n",
    "from sklearn.metrics import roc_curve, roc_auc_score, auc"
   ]
  },
  {
   "cell_type": "code",
   "execution_count": 273,
   "id": "27f89db2",
   "metadata": {},
   "outputs": [
    {
     "name": "stdout",
     "output_type": "stream",
     "text": [
      "<class 'pandas.core.frame.DataFrame'>\n",
      "RangeIndex: 145460 entries, 0 to 145459\n",
      "Data columns (total 23 columns):\n",
      " #   Column         Non-Null Count   Dtype  \n",
      "---  ------         --------------   -----  \n",
      " 0   Date           145460 non-null  object \n",
      " 1   Location       145460 non-null  object \n",
      " 2   MinTemp        143975 non-null  float64\n",
      " 3   MaxTemp        144199 non-null  float64\n",
      " 4   Rainfall       142199 non-null  float64\n",
      " 5   Evaporation    82670 non-null   float64\n",
      " 6   Sunshine       75625 non-null   float64\n",
      " 7   WindGustDir    135134 non-null  object \n",
      " 8   WindGustSpeed  135197 non-null  float64\n",
      " 9   WindDir9am     134894 non-null  object \n",
      " 10  WindDir3pm     141232 non-null  object \n",
      " 11  WindSpeed9am   143693 non-null  float64\n",
      " 12  WindSpeed3pm   142398 non-null  float64\n",
      " 13  Humidity9am    142806 non-null  float64\n",
      " 14  Humidity3pm    140953 non-null  float64\n",
      " 15  Pressure9am    130395 non-null  float64\n",
      " 16  Pressure3pm    130432 non-null  float64\n",
      " 17  Cloud9am       89572 non-null   float64\n",
      " 18  Cloud3pm       86102 non-null   float64\n",
      " 19  Temp9am        143693 non-null  float64\n",
      " 20  Temp3pm        141851 non-null  float64\n",
      " 21  RainToday      142199 non-null  object \n",
      " 22  RainTomorrow   142193 non-null  object \n",
      "dtypes: float64(16), object(7)\n",
      "memory usage: 25.5+ MB\n"
     ]
    }
   ],
   "source": [
    "df = pd.read_csv(\"weatherAUS.csv\")\n",
    "\n",
    "df.info()"
   ]
  },
  {
   "cell_type": "code",
   "execution_count": 274,
   "id": "996732ae",
   "metadata": {},
   "outputs": [
    {
     "data": {
      "text/html": [
       "<div>\n",
       "<style scoped>\n",
       "    .dataframe tbody tr th:only-of-type {\n",
       "        vertical-align: middle;\n",
       "    }\n",
       "\n",
       "    .dataframe tbody tr th {\n",
       "        vertical-align: top;\n",
       "    }\n",
       "\n",
       "    .dataframe thead th {\n",
       "        text-align: right;\n",
       "    }\n",
       "</style>\n",
       "<table border=\"1\" class=\"dataframe\">\n",
       "  <thead>\n",
       "    <tr style=\"text-align: right;\">\n",
       "      <th></th>\n",
       "      <th>Date</th>\n",
       "      <th>Location</th>\n",
       "      <th>MinTemp</th>\n",
       "      <th>MaxTemp</th>\n",
       "      <th>Rainfall</th>\n",
       "      <th>Evaporation</th>\n",
       "      <th>Sunshine</th>\n",
       "      <th>WindGustDir</th>\n",
       "      <th>WindGustSpeed</th>\n",
       "      <th>WindDir9am</th>\n",
       "      <th>...</th>\n",
       "      <th>Humidity9am</th>\n",
       "      <th>Humidity3pm</th>\n",
       "      <th>Pressure9am</th>\n",
       "      <th>Pressure3pm</th>\n",
       "      <th>Cloud9am</th>\n",
       "      <th>Cloud3pm</th>\n",
       "      <th>Temp9am</th>\n",
       "      <th>Temp3pm</th>\n",
       "      <th>RainToday</th>\n",
       "      <th>RainTomorrow</th>\n",
       "    </tr>\n",
       "  </thead>\n",
       "  <tbody>\n",
       "    <tr>\n",
       "      <th>0</th>\n",
       "      <td>2008-12-01</td>\n",
       "      <td>Albury</td>\n",
       "      <td>13.4</td>\n",
       "      <td>22.9</td>\n",
       "      <td>0.6</td>\n",
       "      <td>NaN</td>\n",
       "      <td>NaN</td>\n",
       "      <td>W</td>\n",
       "      <td>44.0</td>\n",
       "      <td>W</td>\n",
       "      <td>...</td>\n",
       "      <td>71.0</td>\n",
       "      <td>22.0</td>\n",
       "      <td>1007.7</td>\n",
       "      <td>1007.1</td>\n",
       "      <td>8.0</td>\n",
       "      <td>NaN</td>\n",
       "      <td>16.9</td>\n",
       "      <td>21.8</td>\n",
       "      <td>No</td>\n",
       "      <td>No</td>\n",
       "    </tr>\n",
       "    <tr>\n",
       "      <th>1</th>\n",
       "      <td>2008-12-02</td>\n",
       "      <td>Albury</td>\n",
       "      <td>7.4</td>\n",
       "      <td>25.1</td>\n",
       "      <td>0.0</td>\n",
       "      <td>NaN</td>\n",
       "      <td>NaN</td>\n",
       "      <td>WNW</td>\n",
       "      <td>44.0</td>\n",
       "      <td>NNW</td>\n",
       "      <td>...</td>\n",
       "      <td>44.0</td>\n",
       "      <td>25.0</td>\n",
       "      <td>1010.6</td>\n",
       "      <td>1007.8</td>\n",
       "      <td>NaN</td>\n",
       "      <td>NaN</td>\n",
       "      <td>17.2</td>\n",
       "      <td>24.3</td>\n",
       "      <td>No</td>\n",
       "      <td>No</td>\n",
       "    </tr>\n",
       "    <tr>\n",
       "      <th>2</th>\n",
       "      <td>2008-12-03</td>\n",
       "      <td>Albury</td>\n",
       "      <td>12.9</td>\n",
       "      <td>25.7</td>\n",
       "      <td>0.0</td>\n",
       "      <td>NaN</td>\n",
       "      <td>NaN</td>\n",
       "      <td>WSW</td>\n",
       "      <td>46.0</td>\n",
       "      <td>W</td>\n",
       "      <td>...</td>\n",
       "      <td>38.0</td>\n",
       "      <td>30.0</td>\n",
       "      <td>1007.6</td>\n",
       "      <td>1008.7</td>\n",
       "      <td>NaN</td>\n",
       "      <td>2.0</td>\n",
       "      <td>21.0</td>\n",
       "      <td>23.2</td>\n",
       "      <td>No</td>\n",
       "      <td>No</td>\n",
       "    </tr>\n",
       "    <tr>\n",
       "      <th>3</th>\n",
       "      <td>2008-12-04</td>\n",
       "      <td>Albury</td>\n",
       "      <td>9.2</td>\n",
       "      <td>28.0</td>\n",
       "      <td>0.0</td>\n",
       "      <td>NaN</td>\n",
       "      <td>NaN</td>\n",
       "      <td>NE</td>\n",
       "      <td>24.0</td>\n",
       "      <td>SE</td>\n",
       "      <td>...</td>\n",
       "      <td>45.0</td>\n",
       "      <td>16.0</td>\n",
       "      <td>1017.6</td>\n",
       "      <td>1012.8</td>\n",
       "      <td>NaN</td>\n",
       "      <td>NaN</td>\n",
       "      <td>18.1</td>\n",
       "      <td>26.5</td>\n",
       "      <td>No</td>\n",
       "      <td>No</td>\n",
       "    </tr>\n",
       "    <tr>\n",
       "      <th>4</th>\n",
       "      <td>2008-12-05</td>\n",
       "      <td>Albury</td>\n",
       "      <td>17.5</td>\n",
       "      <td>32.3</td>\n",
       "      <td>1.0</td>\n",
       "      <td>NaN</td>\n",
       "      <td>NaN</td>\n",
       "      <td>W</td>\n",
       "      <td>41.0</td>\n",
       "      <td>ENE</td>\n",
       "      <td>...</td>\n",
       "      <td>82.0</td>\n",
       "      <td>33.0</td>\n",
       "      <td>1010.8</td>\n",
       "      <td>1006.0</td>\n",
       "      <td>7.0</td>\n",
       "      <td>8.0</td>\n",
       "      <td>17.8</td>\n",
       "      <td>29.7</td>\n",
       "      <td>No</td>\n",
       "      <td>No</td>\n",
       "    </tr>\n",
       "    <tr>\n",
       "      <th>...</th>\n",
       "      <td>...</td>\n",
       "      <td>...</td>\n",
       "      <td>...</td>\n",
       "      <td>...</td>\n",
       "      <td>...</td>\n",
       "      <td>...</td>\n",
       "      <td>...</td>\n",
       "      <td>...</td>\n",
       "      <td>...</td>\n",
       "      <td>...</td>\n",
       "      <td>...</td>\n",
       "      <td>...</td>\n",
       "      <td>...</td>\n",
       "      <td>...</td>\n",
       "      <td>...</td>\n",
       "      <td>...</td>\n",
       "      <td>...</td>\n",
       "      <td>...</td>\n",
       "      <td>...</td>\n",
       "      <td>...</td>\n",
       "      <td>...</td>\n",
       "    </tr>\n",
       "    <tr>\n",
       "      <th>145455</th>\n",
       "      <td>2017-06-21</td>\n",
       "      <td>Uluru</td>\n",
       "      <td>2.8</td>\n",
       "      <td>23.4</td>\n",
       "      <td>0.0</td>\n",
       "      <td>NaN</td>\n",
       "      <td>NaN</td>\n",
       "      <td>E</td>\n",
       "      <td>31.0</td>\n",
       "      <td>SE</td>\n",
       "      <td>...</td>\n",
       "      <td>51.0</td>\n",
       "      <td>24.0</td>\n",
       "      <td>1024.6</td>\n",
       "      <td>1020.3</td>\n",
       "      <td>NaN</td>\n",
       "      <td>NaN</td>\n",
       "      <td>10.1</td>\n",
       "      <td>22.4</td>\n",
       "      <td>No</td>\n",
       "      <td>No</td>\n",
       "    </tr>\n",
       "    <tr>\n",
       "      <th>145456</th>\n",
       "      <td>2017-06-22</td>\n",
       "      <td>Uluru</td>\n",
       "      <td>3.6</td>\n",
       "      <td>25.3</td>\n",
       "      <td>0.0</td>\n",
       "      <td>NaN</td>\n",
       "      <td>NaN</td>\n",
       "      <td>NNW</td>\n",
       "      <td>22.0</td>\n",
       "      <td>SE</td>\n",
       "      <td>...</td>\n",
       "      <td>56.0</td>\n",
       "      <td>21.0</td>\n",
       "      <td>1023.5</td>\n",
       "      <td>1019.1</td>\n",
       "      <td>NaN</td>\n",
       "      <td>NaN</td>\n",
       "      <td>10.9</td>\n",
       "      <td>24.5</td>\n",
       "      <td>No</td>\n",
       "      <td>No</td>\n",
       "    </tr>\n",
       "    <tr>\n",
       "      <th>145457</th>\n",
       "      <td>2017-06-23</td>\n",
       "      <td>Uluru</td>\n",
       "      <td>5.4</td>\n",
       "      <td>26.9</td>\n",
       "      <td>0.0</td>\n",
       "      <td>NaN</td>\n",
       "      <td>NaN</td>\n",
       "      <td>N</td>\n",
       "      <td>37.0</td>\n",
       "      <td>SE</td>\n",
       "      <td>...</td>\n",
       "      <td>53.0</td>\n",
       "      <td>24.0</td>\n",
       "      <td>1021.0</td>\n",
       "      <td>1016.8</td>\n",
       "      <td>NaN</td>\n",
       "      <td>NaN</td>\n",
       "      <td>12.5</td>\n",
       "      <td>26.1</td>\n",
       "      <td>No</td>\n",
       "      <td>No</td>\n",
       "    </tr>\n",
       "    <tr>\n",
       "      <th>145458</th>\n",
       "      <td>2017-06-24</td>\n",
       "      <td>Uluru</td>\n",
       "      <td>7.8</td>\n",
       "      <td>27.0</td>\n",
       "      <td>0.0</td>\n",
       "      <td>NaN</td>\n",
       "      <td>NaN</td>\n",
       "      <td>SE</td>\n",
       "      <td>28.0</td>\n",
       "      <td>SSE</td>\n",
       "      <td>...</td>\n",
       "      <td>51.0</td>\n",
       "      <td>24.0</td>\n",
       "      <td>1019.4</td>\n",
       "      <td>1016.5</td>\n",
       "      <td>3.0</td>\n",
       "      <td>2.0</td>\n",
       "      <td>15.1</td>\n",
       "      <td>26.0</td>\n",
       "      <td>No</td>\n",
       "      <td>No</td>\n",
       "    </tr>\n",
       "    <tr>\n",
       "      <th>145459</th>\n",
       "      <td>2017-06-25</td>\n",
       "      <td>Uluru</td>\n",
       "      <td>14.9</td>\n",
       "      <td>NaN</td>\n",
       "      <td>0.0</td>\n",
       "      <td>NaN</td>\n",
       "      <td>NaN</td>\n",
       "      <td>NaN</td>\n",
       "      <td>NaN</td>\n",
       "      <td>ESE</td>\n",
       "      <td>...</td>\n",
       "      <td>62.0</td>\n",
       "      <td>36.0</td>\n",
       "      <td>1020.2</td>\n",
       "      <td>1017.9</td>\n",
       "      <td>8.0</td>\n",
       "      <td>8.0</td>\n",
       "      <td>15.0</td>\n",
       "      <td>20.9</td>\n",
       "      <td>No</td>\n",
       "      <td>NaN</td>\n",
       "    </tr>\n",
       "  </tbody>\n",
       "</table>\n",
       "<p>145460 rows × 23 columns</p>\n",
       "</div>"
      ],
      "text/plain": [
       "              Date Location  MinTemp  MaxTemp  Rainfall  Evaporation  \\\n",
       "0       2008-12-01   Albury     13.4     22.9       0.6          NaN   \n",
       "1       2008-12-02   Albury      7.4     25.1       0.0          NaN   \n",
       "2       2008-12-03   Albury     12.9     25.7       0.0          NaN   \n",
       "3       2008-12-04   Albury      9.2     28.0       0.0          NaN   \n",
       "4       2008-12-05   Albury     17.5     32.3       1.0          NaN   \n",
       "...            ...      ...      ...      ...       ...          ...   \n",
       "145455  2017-06-21    Uluru      2.8     23.4       0.0          NaN   \n",
       "145456  2017-06-22    Uluru      3.6     25.3       0.0          NaN   \n",
       "145457  2017-06-23    Uluru      5.4     26.9       0.0          NaN   \n",
       "145458  2017-06-24    Uluru      7.8     27.0       0.0          NaN   \n",
       "145459  2017-06-25    Uluru     14.9      NaN       0.0          NaN   \n",
       "\n",
       "        Sunshine WindGustDir  WindGustSpeed WindDir9am  ... Humidity9am  \\\n",
       "0            NaN           W           44.0          W  ...        71.0   \n",
       "1            NaN         WNW           44.0        NNW  ...        44.0   \n",
       "2            NaN         WSW           46.0          W  ...        38.0   \n",
       "3            NaN          NE           24.0         SE  ...        45.0   \n",
       "4            NaN           W           41.0        ENE  ...        82.0   \n",
       "...          ...         ...            ...        ...  ...         ...   \n",
       "145455       NaN           E           31.0         SE  ...        51.0   \n",
       "145456       NaN         NNW           22.0         SE  ...        56.0   \n",
       "145457       NaN           N           37.0         SE  ...        53.0   \n",
       "145458       NaN          SE           28.0        SSE  ...        51.0   \n",
       "145459       NaN         NaN            NaN        ESE  ...        62.0   \n",
       "\n",
       "        Humidity3pm  Pressure9am  Pressure3pm  Cloud9am  Cloud3pm  Temp9am  \\\n",
       "0              22.0       1007.7       1007.1       8.0       NaN     16.9   \n",
       "1              25.0       1010.6       1007.8       NaN       NaN     17.2   \n",
       "2              30.0       1007.6       1008.7       NaN       2.0     21.0   \n",
       "3              16.0       1017.6       1012.8       NaN       NaN     18.1   \n",
       "4              33.0       1010.8       1006.0       7.0       8.0     17.8   \n",
       "...             ...          ...          ...       ...       ...      ...   \n",
       "145455         24.0       1024.6       1020.3       NaN       NaN     10.1   \n",
       "145456         21.0       1023.5       1019.1       NaN       NaN     10.9   \n",
       "145457         24.0       1021.0       1016.8       NaN       NaN     12.5   \n",
       "145458         24.0       1019.4       1016.5       3.0       2.0     15.1   \n",
       "145459         36.0       1020.2       1017.9       8.0       8.0     15.0   \n",
       "\n",
       "        Temp3pm  RainToday  RainTomorrow  \n",
       "0          21.8         No            No  \n",
       "1          24.3         No            No  \n",
       "2          23.2         No            No  \n",
       "3          26.5         No            No  \n",
       "4          29.7         No            No  \n",
       "...         ...        ...           ...  \n",
       "145455     22.4         No            No  \n",
       "145456     24.5         No            No  \n",
       "145457     26.1         No            No  \n",
       "145458     26.0         No            No  \n",
       "145459     20.9         No           NaN  \n",
       "\n",
       "[145460 rows x 23 columns]"
      ]
     },
     "execution_count": 274,
     "metadata": {},
     "output_type": "execute_result"
    }
   ],
   "source": [
    "df"
   ]
  },
  {
   "cell_type": "markdown",
   "id": "8e7ad3c3",
   "metadata": {},
   "source": [
    "## Entrega número 1"
   ]
  },
  {
   "cell_type": "markdown",
   "id": "ce64edd7",
   "metadata": {},
   "source": [
    "### Clusterización de ciudades"
   ]
  },
  {
   "cell_type": "code",
   "execution_count": 275,
   "id": "46ac8b37",
   "metadata": {},
   "outputs": [
    {
     "data": {
      "text/html": [
       "<div>\n",
       "<style scoped>\n",
       "    .dataframe tbody tr th:only-of-type {\n",
       "        vertical-align: middle;\n",
       "    }\n",
       "\n",
       "    .dataframe tbody tr th {\n",
       "        vertical-align: top;\n",
       "    }\n",
       "\n",
       "    .dataframe thead th {\n",
       "        text-align: right;\n",
       "    }\n",
       "</style>\n",
       "<table border=\"1\" class=\"dataframe\">\n",
       "  <thead>\n",
       "    <tr style=\"text-align: right;\">\n",
       "      <th></th>\n",
       "      <th>Location</th>\n",
       "      <th>Latitude</th>\n",
       "      <th>Longitude</th>\n",
       "    </tr>\n",
       "  </thead>\n",
       "  <tbody>\n",
       "    <tr>\n",
       "      <th>0</th>\n",
       "      <td>Albury</td>\n",
       "      <td>-36.0737</td>\n",
       "      <td>146.9135</td>\n",
       "    </tr>\n",
       "    <tr>\n",
       "      <th>1</th>\n",
       "      <td>BadgerysCreek</td>\n",
       "      <td>-33.8833</td>\n",
       "      <td>150.7333</td>\n",
       "    </tr>\n",
       "    <tr>\n",
       "      <th>2</th>\n",
       "      <td>Cobar</td>\n",
       "      <td>-31.4958</td>\n",
       "      <td>145.8386</td>\n",
       "    </tr>\n",
       "    <tr>\n",
       "      <th>3</th>\n",
       "      <td>CoffsHarbour</td>\n",
       "      <td>-30.2963</td>\n",
       "      <td>153.1139</td>\n",
       "    </tr>\n",
       "    <tr>\n",
       "      <th>4</th>\n",
       "      <td>Moree</td>\n",
       "      <td>-29.4628</td>\n",
       "      <td>149.8419</td>\n",
       "    </tr>\n",
       "  </tbody>\n",
       "</table>\n",
       "</div>"
      ],
      "text/plain": [
       "        Location  Latitude  Longitude\n",
       "0         Albury  -36.0737   146.9135\n",
       "1  BadgerysCreek  -33.8833   150.7333\n",
       "2          Cobar  -31.4958   145.8386\n",
       "3   CoffsHarbour  -30.2963   153.1139\n",
       "4          Moree  -29.4628   149.8419"
      ]
     },
     "execution_count": 275,
     "metadata": {},
     "output_type": "execute_result"
    }
   ],
   "source": [
    "# Coordenadas de las ciudades\n",
    "\n",
    "#locations = df['Location'].unique()\n",
    "coordenadas = {\n",
    "    'Albury': (-36.0737, 146.9135),\n",
    "    'BadgerysCreek': (-33.8833, 150.7333),\n",
    "    'Cobar': (-31.4958, 145.8386),\n",
    "    'CoffsHarbour': (-30.2963, 153.1139),\n",
    "    'Moree': (-29.4628, 149.8419),\n",
    "    'Newcastle': (-32.9283, 151.7817),\n",
    "    'NorahHead': (-33.2817, 151.5714),\n",
    "    'NorfolkIsland': (-29.0408, 167.9547),\n",
    "    'Penrith': (-33.7511, 150.6942),\n",
    "    'Richmond': (-33.6000, 150.7500),\n",
    "    'Sydney': (-33.8688, 151.2093),\n",
    "    'SydneyAirport': (-33.9461, 151.1772),\n",
    "    'WaggaWagga': (-35.1082, 147.3598),\n",
    "    'Williamtown': (-32.8156, 151.8431),\n",
    "    'Wollongong': (-34.4278, 150.8931),\n",
    "    'Canberra': (-35.2809, 149.1300),\n",
    "    'Tuggeranong': (-35.4244, 149.0878),\n",
    "    'MountGinini': (-35.5297, 148.7731),\n",
    "    'Ballarat': (-37.5622, 143.8503),\n",
    "    'Bendigo': (-36.7570, 144.2794),\n",
    "    'Sale': (-38.1069, 147.0664),\n",
    "    'MelbourneAirport': (-37.6690, 144.8410),\n",
    "    'Melbourne': (-37.8136, 144.9631),\n",
    "    'Mildura': (-34.1872, 142.1386),\n",
    "    'Nhil': (-36.3319, 141.6503),\n",
    "    'Portland': (-38.3453, 141.6044),\n",
    "    'Watsonia': (-37.7111, 145.0831),\n",
    "    'Dartmoor': (-37.9217, 141.2711),\n",
    "    'Brisbane': (-27.4698, 153.0251),\n",
    "    'Cairns': (-16.9186, 145.7781),\n",
    "    'GoldCoast': (-28.0167, 153.4000),\n",
    "    'Townsville': (-19.2590, 146.8169),\n",
    "    'Adelaide': (-34.9285, 138.6007),\n",
    "    'MountGambier': (-37.8297, 140.7828),\n",
    "    'Nuriootpa': (-34.4667, 138.9833),\n",
    "    'Woomera': (-31.1558, 136.8269),\n",
    "    'Albany': (-35.0269, 117.8842),\n",
    "    'Witchcliffe': (-34.0278, 115.1006),\n",
    "    'PearceRAAF': (-31.6678, 116.0150),\n",
    "    'PerthAirport': (-31.9403, 115.9672),\n",
    "    'Perth': (-31.9505, 115.8605),\n",
    "    'SalmonGums': (-32.9833, 121.6333),\n",
    "    'Walpole': (-34.9778, 116.7333),\n",
    "    'Hobart': (-42.8821, 147.3272),\n",
    "    'Launceston': (-41.4332, 147.1441),\n",
    "    'AliceSprings': (-23.6980, 133.8807),\n",
    "    'Darwin': (-12.4634, 130.8456),\n",
    "    'Katherine': (-14.4653, 132.2636),\n",
    "    'Uluru': (-25.3444, 131.0369)\n",
    "}\n",
    "\n",
    "coord_ciudades = pd.DataFrame([\n",
    "    {'Location': ciudad, 'Latitude': coords[0], 'Longitude': coords[1]}\n",
    "    for ciudad, coords in coordenadas.items()\n",
    "])\n",
    "\n",
    "coord_ciudades.head()"
   ]
  },
  {
   "cell_type": "code",
   "execution_count": 276,
   "id": "cb2f8900",
   "metadata": {},
   "outputs": [
    {
     "data": {
      "image/png": "[encoded data removed]",
      "text/plain": [
       "<Figure size 640x480 with 1 Axes>"
      ]
     },
     "metadata": {},
     "output_type": "display_data"
    }
   ],
   "source": [
    "X = coord_ciudades[['Latitude', 'Longitude']].values\n",
    "inertias = []\n",
    "K_range = range(2, 11)\n",
    "\n",
    "for k in K_range:\n",
    "    kmeans = KMeans(n_clusters=k, random_state=42)\n",
    "    kmeans.fit(X)\n",
    "    inertias.append(kmeans.inertia_)\n",
    "\n",
    "# Graficar\n",
    "plt.plot(K_range, inertias, 'bo-')\n",
    "plt.xlabel('Número de clusters')\n",
    "plt.ylabel('Inercia')\n",
    "plt.title('Método del Codo')\n",
    "plt.grid(True)\n",
    "plt.show()"
   ]
  },
  {
   "cell_type": "code",
   "execution_count": 277,
   "id": "8ab80ec1",
   "metadata": {},
   "outputs": [
    {
     "data": {
      "application/vnd.plotly.v1+json": {
       "config": {
        "plotlyServerURL": "https://plot.ly"
       },
       "data": [
        {
         "hovertemplate": "Longitud=%{x}<br>Latitud=%{y}<br>Región=%{marker.color}<extra></extra>",
         "legendgroup": "",
         "marker": {
          "color": {
           "bdata": "AAAAAAIAAAAAAAAAAgAAAAIAAAACAAAAAgAAAAIAAAACAAAAAgAAAAIAAAACAAAAAAAAAAIAAAACAAAAAgAAAAIAAAACAAAAAAAAAAAAAAAAAAAAAAAAAAAAAAAAAAAAAAAAAAAAAAAAAAAAAAAAAAIAAAADAAAAAgAAAAMAAAAAAAAAAAAAAAAAAAAAAAAAAQAAAAEAAAABAAAAAQAAAAEAAAABAAAAAQAAAAAAAAAAAAAAAwAAAAMAAAADAAAAAwAAAA==",
           "dtype": "i4"
          },
          "coloraxis": "coloraxis",
          "size": 10,
          "symbol": "circle"
         },
         "mode": "markers",
         "name": "",
         "orientation": "v",
         "showlegend": false,
         "type": "scatter",
         "x": {
          "bdata": "rBxaZDtdYkAFxY8xd9diQJ/Nqs/VOmJAduCcEaUjY0AU0ETY8LpiQBDpt68D+WJA5x2n6EjyYkC4rwPnjP5kQEMc6+I21mJAAAAAAADYYkCx4emVsuZiQD2bVZ+r5WJAOiNKe4NrYkA+6Nms+vpiQNiBc0aU3GJAXI/C9SikYkDXEvJBz6JiQDQRNjy9mGJAPnlYqDX7YUAU0ETY8AhiQIqO5PIfYmJA9P3UeOkaYkDiWBe30R5iQDhnRGlvxGFA1xLyQc+0YUB6Nqs+V7NhQIbJVMGoImJAQj7o2ayoYUAm5IOezSBjQJCg+DHmOGJAzczMzMwsY0BHA3gLJFpiQKHWNO84U2FA4umVsgyZYUAFxY8xd19hQP8h/fZ1GmFA48eYu5Z4XUCRfvs6cMZcQClcj8L1AF1APSzUmub9XEBQjZduEvdcQKMjufyHaF5ACYofY+4uXUAKaCJseGpiQFFrmnecZGJAyjLEsS68YEDsL7snD1tgQDhnRGlviGBAHqfoSC5hYEA=",
          "dtype": "f8"
         },
         "xaxis": "x",
         "y": {
          "bdata": "jNtoAG8JQsBFR3L5D/FAwFdbsb/sfj/AB84ZUdpLPsC8lpAPenY9wDtwzojSdkDAQKTfvg6kQMBDrWnecQo9wEcDeAsk4EDAzczMzMzMQMDlYaHWNO9AwHBfB84Z+UDArrZif9mNQcAOT6+UZWhAwEmdgCbCNkHAJLn8h/SjQcARNjy9UrZBwHlYqDXNw0HA1edqK/bHQsA3iUFg5WBCwKH4MeauDUPAEoPAyqHVQsBHA3gLJOhCwNXnaiv2F0HAbcX+snsqQsCHp1fKMixDwMIXJlMF20LAklz+Q/r1QsAqqRPQRHg7wAkbnl4p6zDA3NeBc0YEPMD8qfHSTUIzwAIrhxbZdkHA4L4OnDPqQsCIhVrTvDtBwIC3QILiJz/AliGOdXGDQcAWak3zjgNBwNBE2PD0qj/Axm00gLfwP8AX2c73U/M/wBIUP8bcfUDAsAPnjCh9QcCb5h2n6HBFwEhQ/Bhzt0TAppvEILCyN8DM7snDQu0owFioNc077izADr4wmSpYOcA=",
          "dtype": "f8"
         },
         "yaxis": "y"
        }
       ],
       "layout": {
        "coloraxis": {
         "colorbar": {
          "title": {
           "text": "Región"
          }
         },
         "colorscale": [
          [
           0,
           "#0d0887"
          ],
          [
           0.1111111111111111,
           "#46039f"
          ],
          [
           0.2222222222222222,
           "#7201a8"
          ],
          [
           0.3333333333333333,
           "#9c179e"
          ],
          [
           0.4444444444444444,
           "#bd3786"
          ],
          [
           0.5555555555555556,
           "#d8576b"
          ],
          [
           0.6666666666666666,
           "#ed7953"
          ],
          [
           0.7777777777777778,
           "#fb9f3a"
          ],
          [
           0.8888888888888888,
           "#fdca26"
          ],
          [
           1,
           "#f0f921"
          ]
         ]
        },
        "legend": {
         "tracegroupgap": 0
        },
        "template": {
         "data": {
          "bar": [
           {
            "error_x": {
             "color": "#2a3f5f"
            },
            "error_y": {
             "color": "#2a3f5f"
            },
            "marker": {
             "line": {
              "color": "#E5ECF6",
              "width": 0.5
             },
             "pattern": {
              "fillmode": "overlay",
              "size": 10,
              "solidity": 0.2
             }
            },
            "type": "bar"
           }
          ],
          "barpolar": [
           {
            "marker": {
             "line": {
              "color": "#E5ECF6",
              "width": 0.5
             },
             "pattern": {
              "fillmode": "overlay",
              "size": 10,
              "solidity": 0.2
             }
            },
            "type": "barpolar"
           }
          ],
          "carpet": [
           {
            "aaxis": {
             "endlinecolor": "#2a3f5f",
             "gridcolor": "white",
             "linecolor": "white",
             "minorgridcolor": "white",
             "startlinecolor": "#2a3f5f"
            },
            "baxis": {
             "endlinecolor": "#2a3f5f",
             "gridcolor": "white",
             "linecolor": "white",
             "minorgridcolor": "white",
             "startlinecolor": "#2a3f5f"
            },
            "type": "carpet"
           }
          ],
          "choropleth": [
           {
            "colorbar": {
             "outlinewidth": 0,
             "ticks": ""
            },
            "type": "choropleth"
           }
          ],
          "contour": [
           {
            "colorbar": {
             "outlinewidth": 0,
             "ticks": ""
            },
            "colorscale": [
             [
              0,
              "#0d0887"
             ],
             [
              0.1111111111111111,
              "#46039f"
             ],
             [
              0.2222222222222222,
              "#7201a8"
             ],
             [
              0.3333333333333333,
              "#9c179e"
             ],
             [
              0.4444444444444444,
              "#bd3786"
             ],
             [
              0.5555555555555556,
              "#d8576b"
             ],
             [
              0.6666666666666666,
              "#ed7953"
             ],
             [
              0.7777777777777778,
              "#fb9f3a"
             ],
             [
              0.8888888888888888,
              "#fdca26"
             ],
             [
              1,
              "#f0f921"
             ]
            ],
            "type": "contour"
           }
          ],
          "contourcarpet": [
           {
            "colorbar": {
             "outlinewidth": 0,
             "ticks": ""
            },
            "type": "contourcarpet"
           }
          ],
          "heatmap": [
           {
            "colorbar": {
             "outlinewidth": 0,
             "ticks": ""
            },
            "colorscale": [
             [
              0,
              "#0d0887"
             ],
             [
              0.1111111111111111,
              "#46039f"
             ],
             [
              0.2222222222222222,
              "#7201a8"
             ],
             [
              0.3333333333333333,
              "#9c179e"
             ],
             [
              0.4444444444444444,
              "#bd3786"
             ],
             [
              0.5555555555555556,
              "#d8576b"
             ],
             [
              0.6666666666666666,
              "#ed7953"
             ],
             [
              0.7777777777777778,
              "#fb9f3a"
             ],
             [
              0.8888888888888888,
              "#fdca26"
             ],
             [
              1,
              "#f0f921"
             ]
            ],
            "type": "heatmap"
           }
          ],
          "histogram": [
           {
            "marker": {
             "pattern": {
              "fillmode": "overlay",
              "size": 10,
              "solidity": 0.2
             }
            },
            "type": "histogram"
           }
          ],
          "histogram2d": [
           {
            "colorbar": {
             "outlinewidth": 0,
             "ticks": ""
            },
            "colorscale": [
             [
              0,
              "#0d0887"
             ],
             [
              0.1111111111111111,
              "#46039f"
             ],
             [
              0.2222222222222222,
              "#7201a8"
             ],
             [
              0.3333333333333333,
              "#9c179e"
             ],
             [
              0.4444444444444444,
              "#bd3786"
             ],
             [
              0.5555555555555556,
              "#d8576b"
             ],
             [
              0.6666666666666666,
              "#ed7953"
             ],
             [
              0.7777777777777778,
              "#fb9f3a"
             ],
             [
              0.8888888888888888,
              "#fdca26"
             ],
             [
              1,
              "#f0f921"
             ]
            ],
            "type": "histogram2d"
           }
          ],
          "histogram2dcontour": [
           {
            "colorbar": {
             "outlinewidth": 0,
             "ticks": ""
            },
            "colorscale": [
             [
              0,
              "#0d0887"
             ],
             [
              0.1111111111111111,
              "#46039f"
             ],
             [
              0.2222222222222222,
              "#7201a8"
             ],
             [
              0.3333333333333333,
              "#9c179e"
             ],
             [
              0.4444444444444444,
              "#bd3786"
             ],
             [
              0.5555555555555556,
              "#d8576b"
             ],
             [
              0.6666666666666666,
              "#ed7953"
             ],
             [
              0.7777777777777778,
              "#fb9f3a"
             ],
             [
              0.8888888888888888,
              "#fdca26"
             ],
             [
              1,
              "#f0f921"
             ]
            ],
            "type": "histogram2dcontour"
           }
          ],
          "mesh3d": [
           {
            "colorbar": {
             "outlinewidth": 0,
             "ticks": ""
            },
            "type": "mesh3d"
           }
          ],
          "parcoords": [
           {
            "line": {
             "colorbar": {
              "outlinewidth": 0,
              "ticks": ""
             }
            },
            "type": "parcoords"
           }
          ],
          "pie": [
           {
            "automargin": true,
            "type": "pie"
           }
          ],
          "scatter": [
           {
            "fillpattern": {
             "fillmode": "overlay",
             "size": 10,
             "solidity": 0.2
            },
            "type": "scatter"
           }
          ],
          "scatter3d": [
           {
            "line": {
             "colorbar": {
              "outlinewidth": 0,
              "ticks": ""
             }
            },
            "marker": {
             "colorbar": {
              "outlinewidth": 0,
              "ticks": ""
             }
            },
            "type": "scatter3d"
           }
          ],
          "scattercarpet": [
           {
            "marker": {
             "colorbar": {
              "outlinewidth": 0,
              "ticks": ""
             }
            },
            "type": "scattercarpet"
           }
          ],
          "scattergeo": [
           {
            "marker": {
             "colorbar": {
              "outlinewidth": 0,
              "ticks": ""
             }
            },
            "type": "scattergeo"
           }
          ],
          "scattergl": [
           {
            "marker": {
             "colorbar": {
              "outlinewidth": 0,
              "ticks": ""
             }
            },
            "type": "scattergl"
           }
          ],
          "scattermap": [
           {
            "marker": {
             "colorbar": {
              "outlinewidth": 0,
              "ticks": ""
             }
            },
            "type": "scattermap"
           }
          ],
          "scattermapbox": [
           {
            "marker": {
             "colorbar": {
              "outlinewidth": 0,
              "ticks": ""
             }
            },
            "type": "scattermapbox"
           }
          ],
          "scatterpolar": [
           {
            "marker": {
             "colorbar": {
              "outlinewidth": 0,
              "ticks": ""
             }
            },
            "type": "scatterpolar"
           }
          ],
          "scatterpolargl": [
           {
            "marker": {
             "colorbar": {
              "outlinewidth": 0,
              "ticks": ""
             }
            },
            "type": "scatterpolargl"
           }
          ],
          "scatterternary": [
           {
            "marker": {
             "colorbar": {
              "outlinewidth": 0,
              "ticks": ""
             }
            },
            "type": "scatterternary"
           }
          ],
          "surface": [
           {
            "colorbar": {
             "outlinewidth": 0,
             "ticks": ""
            },
            "colorscale": [
             [
              0,
              "#0d0887"
             ],
             [
              0.1111111111111111,
              "#46039f"
             ],
             [
              0.2222222222222222,
              "#7201a8"
             ],
             [
              0.3333333333333333,
              "#9c179e"
             ],
             [
              0.4444444444444444,
              "#bd3786"
             ],
             [
              0.5555555555555556,
              "#d8576b"
             ],
             [
              0.6666666666666666,
              "#ed7953"
             ],
             [
              0.7777777777777778,
              "#fb9f3a"
             ],
             [
              0.8888888888888888,
              "#fdca26"
             ],
             [
              1,
              "#f0f921"
             ]
            ],
            "type": "surface"
           }
          ],
          "table": [
           {
            "cells": {
             "fill": {
              "color": "#EBF0F8"
             },
             "line": {
              "color": "white"
             }
            },
            "header": {
             "fill": {
              "color": "#C8D4E3"
             },
             "line": {
              "color": "white"
             }
            },
            "type": "table"
           }
          ]
         },
         "layout": {
          "annotationdefaults": {
           "arrowcolor": "#2a3f5f",
           "arrowhead": 0,
           "arrowwidth": 1
          },
          "autotypenumbers": "strict",
          "coloraxis": {
           "colorbar": {
            "outlinewidth": 0,
            "ticks": ""
           }
          },
          "colorscale": {
           "diverging": [
            [
             0,
             "#8e0152"
            ],
            [
             0.1,
             "#c51b7d"
            ],
            [
             0.2,
             "#de77ae"
            ],
            [
             0.3,
             "#f1b6da"
            ],
            [
             0.4,
             "#fde0ef"
            ],
            [
             0.5,
             "#f7f7f7"
            ],
            [
             0.6,
             "#e6f5d0"
            ],
            [
             0.7,
             "#b8e186"
            ],
            [
             0.8,
             "#7fbc41"
            ],
            [
             0.9,
             "#4d9221"
            ],
            [
             1,
             "#276419"
            ]
           ],
           "sequential": [
            [
             0,
             "#0d0887"
            ],
            [
             0.1111111111111111,
             "#46039f"
            ],
            [
             0.2222222222222222,
             "#7201a8"
            ],
            [
             0.3333333333333333,
             "#9c179e"
            ],
            [
             0.4444444444444444,
             "#bd3786"
            ],
            [
             0.5555555555555556,
             "#d8576b"
            ],
            [
             0.6666666666666666,
             "#ed7953"
            ],
            [
             0.7777777777777778,
             "#fb9f3a"
            ],
            [
             0.8888888888888888,
             "#fdca26"
            ],
            [
             1,
             "#f0f921"
            ]
           ],
           "sequentialminus": [
            [
             0,
             "#0d0887"
            ],
            [
             0.1111111111111111,
             "#46039f"
            ],
            [
             0.2222222222222222,
             "#7201a8"
            ],
            [
             0.3333333333333333,
             "#9c179e"
            ],
            [
             0.4444444444444444,
             "#bd3786"
            ],
            [
             0.5555555555555556,
             "#d8576b"
            ],
            [
             0.6666666666666666,
             "#ed7953"
            ],
            [
             0.7777777777777778,
             "#fb9f3a"
            ],
            [
             0.8888888888888888,
             "#fdca26"
            ],
            [
             1,
             "#f0f921"
            ]
           ]
          },
          "colorway": [
           "#636efa",
           "#EF553B",
           "#00cc96",
           "#ab63fa",
           "#FFA15A",
           "#19d3f3",
           "#FF6692",
           "#B6E880",
           "#FF97FF",
           "#FECB52"
          ],
          "font": {
           "color": "#2a3f5f"
          },
          "geo": {
           "bgcolor": "white",
           "lakecolor": "white",
           "landcolor": "#E5ECF6",
           "showlakes": true,
           "showland": true,
           "subunitcolor": "white"
          },
          "hoverlabel": {
           "align": "left"
          },
          "hovermode": "closest",
          "mapbox": {
           "style": "light"
          },
          "paper_bgcolor": "white",
          "plot_bgcolor": "#E5ECF6",
          "polar": {
           "angularaxis": {
            "gridcolor": "white",
            "linecolor": "white",
            "ticks": ""
           },
           "bgcolor": "#E5ECF6",
           "radialaxis": {
            "gridcolor": "white",
            "linecolor": "white",
            "ticks": ""
           }
          },
          "scene": {
           "xaxis": {
            "backgroundcolor": "#E5ECF6",
            "gridcolor": "white",
            "gridwidth": 2,
            "linecolor": "white",
            "showbackground": true,
            "ticks": "",
            "zerolinecolor": "white"
           },
           "yaxis": {
            "backgroundcolor": "#E5ECF6",
            "gridcolor": "white",
            "gridwidth": 2,
            "linecolor": "white",
            "showbackground": true,
            "ticks": "",
            "zerolinecolor": "white"
           },
           "zaxis": {
            "backgroundcolor": "#E5ECF6",
            "gridcolor": "white",
            "gridwidth": 2,
            "linecolor": "white",
            "showbackground": true,
            "ticks": "",
            "zerolinecolor": "white"
           }
          },
          "shapedefaults": {
           "line": {
            "color": "#2a3f5f"
           }
          },
          "ternary": {
           "aaxis": {
            "gridcolor": "white",
            "linecolor": "white",
            "ticks": ""
           },
           "baxis": {
            "gridcolor": "white",
            "linecolor": "white",
            "ticks": ""
           },
           "bgcolor": "#E5ECF6",
           "caxis": {
            "gridcolor": "white",
            "linecolor": "white",
            "ticks": ""
           }
          },
          "title": {
           "x": 0.05
          },
          "xaxis": {
           "automargin": true,
           "gridcolor": "white",
           "linecolor": "white",
           "ticks": "",
           "title": {
            "standoff": 15
           },
           "zerolinecolor": "white",
           "zerolinewidth": 2
          },
          "yaxis": {
           "automargin": true,
           "gridcolor": "white",
           "linecolor": "white",
           "ticks": "",
           "title": {
            "standoff": 15
           },
           "zerolinecolor": "white",
           "zerolinewidth": 2
          }
         }
        },
        "title": {
         "text": "Clustering con K-means"
        },
        "xaxis": {
         "anchor": "y",
         "domain": [
          0,
          1
         ],
         "title": {
          "text": "Longitud"
         }
        },
        "yaxis": {
         "anchor": "x",
         "domain": [
          0,
          1
         ],
         "title": {
          "text": "Latitud"
         }
        }
       }
      }
     },
     "metadata": {},
     "output_type": "display_data"
    }
   ],
   "source": [
    "k = 4\n",
    "kmeans = KMeans(n_clusters=k, random_state=42)\n",
    "coord_ciudades['Region'] = kmeans.fit_predict(X)\n",
    "\n",
    "unique_regions = coord_ciudades['Region'].unique()\n",
    "num_colors = len(unique_regions)\n",
    "color_palette = plt.get_cmap('tab10', num_colors)\n",
    "region_color_map = {str(region): mcolors.to_hex(color_palette(i)) \n",
    "                    for i, region in enumerate(sorted(unique_regions))}\n",
    "\n",
    "fig = px.scatter(coord_ciudades, \n",
    "                 x='Longitude', \n",
    "                 y='Latitude', \n",
    "                 color='Region',\n",
    "                 labels={'Longitude': 'Longitud', \n",
    "                         'Latitude': 'Latitud',\n",
    "                         'Region': 'Región'},\n",
    "                 color_discrete_map=region_color_map,\n",
    "                 title=f'Clustering con K-means')\n",
    "\n",
    "fig.update_traces(marker=dict(size=10))\n",
    "fig.show()"
   ]
  },
  {
   "cell_type": "code",
   "execution_count": 278,
   "id": "2a38ea67",
   "metadata": {},
   "outputs": [
    {
     "name": "stdout",
     "output_type": "stream",
     "text": [
      "Region\n",
      "0    19\n",
      "1     7\n",
      "2    17\n",
      "3     6\n",
      "Name: Location, dtype: int64\n"
     ]
    },
    {
     "data": {
      "text/html": [
       "<div>\n",
       "<style scoped>\n",
       "    .dataframe tbody tr th:only-of-type {\n",
       "        vertical-align: middle;\n",
       "    }\n",
       "\n",
       "    .dataframe tbody tr th {\n",
       "        vertical-align: top;\n",
       "    }\n",
       "\n",
       "    .dataframe thead th {\n",
       "        text-align: right;\n",
       "    }\n",
       "</style>\n",
       "<table border=\"1\" class=\"dataframe\">\n",
       "  <thead>\n",
       "    <tr style=\"text-align: right;\">\n",
       "      <th></th>\n",
       "      <th>Location</th>\n",
       "      <th>Latitude</th>\n",
       "      <th>Longitude</th>\n",
       "      <th>Region</th>\n",
       "    </tr>\n",
       "  </thead>\n",
       "  <tbody>\n",
       "    <tr>\n",
       "      <th>0</th>\n",
       "      <td>Albury</td>\n",
       "      <td>-36.0737</td>\n",
       "      <td>146.9135</td>\n",
       "      <td>0</td>\n",
       "    </tr>\n",
       "    <tr>\n",
       "      <th>1</th>\n",
       "      <td>BadgerysCreek</td>\n",
       "      <td>-33.8833</td>\n",
       "      <td>150.7333</td>\n",
       "      <td>2</td>\n",
       "    </tr>\n",
       "    <tr>\n",
       "      <th>2</th>\n",
       "      <td>Cobar</td>\n",
       "      <td>-31.4958</td>\n",
       "      <td>145.8386</td>\n",
       "      <td>0</td>\n",
       "    </tr>\n",
       "    <tr>\n",
       "      <th>3</th>\n",
       "      <td>CoffsHarbour</td>\n",
       "      <td>-30.2963</td>\n",
       "      <td>153.1139</td>\n",
       "      <td>2</td>\n",
       "    </tr>\n",
       "    <tr>\n",
       "      <th>4</th>\n",
       "      <td>Moree</td>\n",
       "      <td>-29.4628</td>\n",
       "      <td>149.8419</td>\n",
       "      <td>2</td>\n",
       "    </tr>\n",
       "  </tbody>\n",
       "</table>\n",
       "</div>"
      ],
      "text/plain": [
       "        Location  Latitude  Longitude  Region\n",
       "0         Albury  -36.0737   146.9135       0\n",
       "1  BadgerysCreek  -33.8833   150.7333       2\n",
       "2          Cobar  -31.4958   145.8386       0\n",
       "3   CoffsHarbour  -30.2963   153.1139       2\n",
       "4          Moree  -29.4628   149.8419       2"
      ]
     },
     "execution_count": 278,
     "metadata": {},
     "output_type": "execute_result"
    }
   ],
   "source": [
    "print(coord_ciudades.groupby('Region')['Location'].count())\n",
    "coord_ciudades.head()"
   ]
  },
  {
   "cell_type": "code",
   "execution_count": 279,
   "id": "93898579",
   "metadata": {},
   "outputs": [
    {
     "data": {
      "text/html": [
       "<div>\n",
       "<style scoped>\n",
       "    .dataframe tbody tr th:only-of-type {\n",
       "        vertical-align: middle;\n",
       "    }\n",
       "\n",
       "    .dataframe tbody tr th {\n",
       "        vertical-align: top;\n",
       "    }\n",
       "\n",
       "    .dataframe thead th {\n",
       "        text-align: right;\n",
       "    }\n",
       "</style>\n",
       "<table border=\"1\" class=\"dataframe\">\n",
       "  <thead>\n",
       "    <tr style=\"text-align: right;\">\n",
       "      <th></th>\n",
       "      <th>Date</th>\n",
       "      <th>Location</th>\n",
       "      <th>MinTemp</th>\n",
       "      <th>MaxTemp</th>\n",
       "      <th>Rainfall</th>\n",
       "      <th>Evaporation</th>\n",
       "      <th>Sunshine</th>\n",
       "      <th>WindGustDir</th>\n",
       "      <th>WindGustSpeed</th>\n",
       "      <th>WindDir9am</th>\n",
       "      <th>...</th>\n",
       "      <th>Pressure3pm</th>\n",
       "      <th>Cloud9am</th>\n",
       "      <th>Cloud3pm</th>\n",
       "      <th>Temp9am</th>\n",
       "      <th>Temp3pm</th>\n",
       "      <th>RainToday</th>\n",
       "      <th>RainTomorrow</th>\n",
       "      <th>Latitude</th>\n",
       "      <th>Longitude</th>\n",
       "      <th>Region</th>\n",
       "    </tr>\n",
       "  </thead>\n",
       "  <tbody>\n",
       "    <tr>\n",
       "      <th>0</th>\n",
       "      <td>2008-12-01</td>\n",
       "      <td>Albury</td>\n",
       "      <td>13.4</td>\n",
       "      <td>22.9</td>\n",
       "      <td>0.6</td>\n",
       "      <td>NaN</td>\n",
       "      <td>NaN</td>\n",
       "      <td>W</td>\n",
       "      <td>44.0</td>\n",
       "      <td>W</td>\n",
       "      <td>...</td>\n",
       "      <td>1007.1</td>\n",
       "      <td>8.0</td>\n",
       "      <td>NaN</td>\n",
       "      <td>16.9</td>\n",
       "      <td>21.8</td>\n",
       "      <td>No</td>\n",
       "      <td>No</td>\n",
       "      <td>-36.0737</td>\n",
       "      <td>146.9135</td>\n",
       "      <td>0</td>\n",
       "    </tr>\n",
       "    <tr>\n",
       "      <th>1</th>\n",
       "      <td>2008-12-02</td>\n",
       "      <td>Albury</td>\n",
       "      <td>7.4</td>\n",
       "      <td>25.1</td>\n",
       "      <td>0.0</td>\n",
       "      <td>NaN</td>\n",
       "      <td>NaN</td>\n",
       "      <td>WNW</td>\n",
       "      <td>44.0</td>\n",
       "      <td>NNW</td>\n",
       "      <td>...</td>\n",
       "      <td>1007.8</td>\n",
       "      <td>NaN</td>\n",
       "      <td>NaN</td>\n",
       "      <td>17.2</td>\n",
       "      <td>24.3</td>\n",
       "      <td>No</td>\n",
       "      <td>No</td>\n",
       "      <td>-36.0737</td>\n",
       "      <td>146.9135</td>\n",
       "      <td>0</td>\n",
       "    </tr>\n",
       "    <tr>\n",
       "      <th>2</th>\n",
       "      <td>2008-12-03</td>\n",
       "      <td>Albury</td>\n",
       "      <td>12.9</td>\n",
       "      <td>25.7</td>\n",
       "      <td>0.0</td>\n",
       "      <td>NaN</td>\n",
       "      <td>NaN</td>\n",
       "      <td>WSW</td>\n",
       "      <td>46.0</td>\n",
       "      <td>W</td>\n",
       "      <td>...</td>\n",
       "      <td>1008.7</td>\n",
       "      <td>NaN</td>\n",
       "      <td>2.0</td>\n",
       "      <td>21.0</td>\n",
       "      <td>23.2</td>\n",
       "      <td>No</td>\n",
       "      <td>No</td>\n",
       "      <td>-36.0737</td>\n",
       "      <td>146.9135</td>\n",
       "      <td>0</td>\n",
       "    </tr>\n",
       "    <tr>\n",
       "      <th>3</th>\n",
       "      <td>2008-12-04</td>\n",
       "      <td>Albury</td>\n",
       "      <td>9.2</td>\n",
       "      <td>28.0</td>\n",
       "      <td>0.0</td>\n",
       "      <td>NaN</td>\n",
       "      <td>NaN</td>\n",
       "      <td>NE</td>\n",
       "      <td>24.0</td>\n",
       "      <td>SE</td>\n",
       "      <td>...</td>\n",
       "      <td>1012.8</td>\n",
       "      <td>NaN</td>\n",
       "      <td>NaN</td>\n",
       "      <td>18.1</td>\n",
       "      <td>26.5</td>\n",
       "      <td>No</td>\n",
       "      <td>No</td>\n",
       "      <td>-36.0737</td>\n",
       "      <td>146.9135</td>\n",
       "      <td>0</td>\n",
       "    </tr>\n",
       "    <tr>\n",
       "      <th>4</th>\n",
       "      <td>2008-12-05</td>\n",
       "      <td>Albury</td>\n",
       "      <td>17.5</td>\n",
       "      <td>32.3</td>\n",
       "      <td>1.0</td>\n",
       "      <td>NaN</td>\n",
       "      <td>NaN</td>\n",
       "      <td>W</td>\n",
       "      <td>41.0</td>\n",
       "      <td>ENE</td>\n",
       "      <td>...</td>\n",
       "      <td>1006.0</td>\n",
       "      <td>7.0</td>\n",
       "      <td>8.0</td>\n",
       "      <td>17.8</td>\n",
       "      <td>29.7</td>\n",
       "      <td>No</td>\n",
       "      <td>No</td>\n",
       "      <td>-36.0737</td>\n",
       "      <td>146.9135</td>\n",
       "      <td>0</td>\n",
       "    </tr>\n",
       "    <tr>\n",
       "      <th>...</th>\n",
       "      <td>...</td>\n",
       "      <td>...</td>\n",
       "      <td>...</td>\n",
       "      <td>...</td>\n",
       "      <td>...</td>\n",
       "      <td>...</td>\n",
       "      <td>...</td>\n",
       "      <td>...</td>\n",
       "      <td>...</td>\n",
       "      <td>...</td>\n",
       "      <td>...</td>\n",
       "      <td>...</td>\n",
       "      <td>...</td>\n",
       "      <td>...</td>\n",
       "      <td>...</td>\n",
       "      <td>...</td>\n",
       "      <td>...</td>\n",
       "      <td>...</td>\n",
       "      <td>...</td>\n",
       "      <td>...</td>\n",
       "      <td>...</td>\n",
       "    </tr>\n",
       "    <tr>\n",
       "      <th>145455</th>\n",
       "      <td>2017-06-21</td>\n",
       "      <td>Uluru</td>\n",
       "      <td>2.8</td>\n",
       "      <td>23.4</td>\n",
       "      <td>0.0</td>\n",
       "      <td>NaN</td>\n",
       "      <td>NaN</td>\n",
       "      <td>E</td>\n",
       "      <td>31.0</td>\n",
       "      <td>SE</td>\n",
       "      <td>...</td>\n",
       "      <td>1020.3</td>\n",
       "      <td>NaN</td>\n",
       "      <td>NaN</td>\n",
       "      <td>10.1</td>\n",
       "      <td>22.4</td>\n",
       "      <td>No</td>\n",
       "      <td>No</td>\n",
       "      <td>-25.3444</td>\n",
       "      <td>131.0369</td>\n",
       "      <td>3</td>\n",
       "    </tr>\n",
       "    <tr>\n",
       "      <th>145456</th>\n",
       "      <td>2017-06-22</td>\n",
       "      <td>Uluru</td>\n",
       "      <td>3.6</td>\n",
       "      <td>25.3</td>\n",
       "      <td>0.0</td>\n",
       "      <td>NaN</td>\n",
       "      <td>NaN</td>\n",
       "      <td>NNW</td>\n",
       "      <td>22.0</td>\n",
       "      <td>SE</td>\n",
       "      <td>...</td>\n",
       "      <td>1019.1</td>\n",
       "      <td>NaN</td>\n",
       "      <td>NaN</td>\n",
       "      <td>10.9</td>\n",
       "      <td>24.5</td>\n",
       "      <td>No</td>\n",
       "      <td>No</td>\n",
       "      <td>-25.3444</td>\n",
       "      <td>131.0369</td>\n",
       "      <td>3</td>\n",
       "    </tr>\n",
       "    <tr>\n",
       "      <th>145457</th>\n",
       "      <td>2017-06-23</td>\n",
       "      <td>Uluru</td>\n",
       "      <td>5.4</td>\n",
       "      <td>26.9</td>\n",
       "      <td>0.0</td>\n",
       "      <td>NaN</td>\n",
       "      <td>NaN</td>\n",
       "      <td>N</td>\n",
       "      <td>37.0</td>\n",
       "      <td>SE</td>\n",
       "      <td>...</td>\n",
       "      <td>1016.8</td>\n",
       "      <td>NaN</td>\n",
       "      <td>NaN</td>\n",
       "      <td>12.5</td>\n",
       "      <td>26.1</td>\n",
       "      <td>No</td>\n",
       "      <td>No</td>\n",
       "      <td>-25.3444</td>\n",
       "      <td>131.0369</td>\n",
       "      <td>3</td>\n",
       "    </tr>\n",
       "    <tr>\n",
       "      <th>145458</th>\n",
       "      <td>2017-06-24</td>\n",
       "      <td>Uluru</td>\n",
       "      <td>7.8</td>\n",
       "      <td>27.0</td>\n",
       "      <td>0.0</td>\n",
       "      <td>NaN</td>\n",
       "      <td>NaN</td>\n",
       "      <td>SE</td>\n",
       "      <td>28.0</td>\n",
       "      <td>SSE</td>\n",
       "      <td>...</td>\n",
       "      <td>1016.5</td>\n",
       "      <td>3.0</td>\n",
       "      <td>2.0</td>\n",
       "      <td>15.1</td>\n",
       "      <td>26.0</td>\n",
       "      <td>No</td>\n",
       "      <td>No</td>\n",
       "      <td>-25.3444</td>\n",
       "      <td>131.0369</td>\n",
       "      <td>3</td>\n",
       "    </tr>\n",
       "    <tr>\n",
       "      <th>145459</th>\n",
       "      <td>2017-06-25</td>\n",
       "      <td>Uluru</td>\n",
       "      <td>14.9</td>\n",
       "      <td>NaN</td>\n",
       "      <td>0.0</td>\n",
       "      <td>NaN</td>\n",
       "      <td>NaN</td>\n",
       "      <td>NaN</td>\n",
       "      <td>NaN</td>\n",
       "      <td>ESE</td>\n",
       "      <td>...</td>\n",
       "      <td>1017.9</td>\n",
       "      <td>8.0</td>\n",
       "      <td>8.0</td>\n",
       "      <td>15.0</td>\n",
       "      <td>20.9</td>\n",
       "      <td>No</td>\n",
       "      <td>NaN</td>\n",
       "      <td>-25.3444</td>\n",
       "      <td>131.0369</td>\n",
       "      <td>3</td>\n",
       "    </tr>\n",
       "  </tbody>\n",
       "</table>\n",
       "<p>145460 rows × 26 columns</p>\n",
       "</div>"
      ],
      "text/plain": [
       "              Date Location  MinTemp  MaxTemp  Rainfall  Evaporation  \\\n",
       "0       2008-12-01   Albury     13.4     22.9       0.6          NaN   \n",
       "1       2008-12-02   Albury      7.4     25.1       0.0          NaN   \n",
       "2       2008-12-03   Albury     12.9     25.7       0.0          NaN   \n",
       "3       2008-12-04   Albury      9.2     28.0       0.0          NaN   \n",
       "4       2008-12-05   Albury     17.5     32.3       1.0          NaN   \n",
       "...            ...      ...      ...      ...       ...          ...   \n",
       "145455  2017-06-21    Uluru      2.8     23.4       0.0          NaN   \n",
       "145456  2017-06-22    Uluru      3.6     25.3       0.0          NaN   \n",
       "145457  2017-06-23    Uluru      5.4     26.9       0.0          NaN   \n",
       "145458  2017-06-24    Uluru      7.8     27.0       0.0          NaN   \n",
       "145459  2017-06-25    Uluru     14.9      NaN       0.0          NaN   \n",
       "\n",
       "        Sunshine WindGustDir  WindGustSpeed WindDir9am  ... Pressure3pm  \\\n",
       "0            NaN           W           44.0          W  ...      1007.1   \n",
       "1            NaN         WNW           44.0        NNW  ...      1007.8   \n",
       "2            NaN         WSW           46.0          W  ...      1008.7   \n",
       "3            NaN          NE           24.0         SE  ...      1012.8   \n",
       "4            NaN           W           41.0        ENE  ...      1006.0   \n",
       "...          ...         ...            ...        ...  ...         ...   \n",
       "145455       NaN           E           31.0         SE  ...      1020.3   \n",
       "145456       NaN         NNW           22.0         SE  ...      1019.1   \n",
       "145457       NaN           N           37.0         SE  ...      1016.8   \n",
       "145458       NaN          SE           28.0        SSE  ...      1016.5   \n",
       "145459       NaN         NaN            NaN        ESE  ...      1017.9   \n",
       "\n",
       "        Cloud9am  Cloud3pm  Temp9am  Temp3pm  RainToday  RainTomorrow  \\\n",
       "0            8.0       NaN     16.9     21.8         No            No   \n",
       "1            NaN       NaN     17.2     24.3         No            No   \n",
       "2            NaN       2.0     21.0     23.2         No            No   \n",
       "3            NaN       NaN     18.1     26.5         No            No   \n",
       "4            7.0       8.0     17.8     29.7         No            No   \n",
       "...          ...       ...      ...      ...        ...           ...   \n",
       "145455       NaN       NaN     10.1     22.4         No            No   \n",
       "145456       NaN       NaN     10.9     24.5         No            No   \n",
       "145457       NaN       NaN     12.5     26.1         No            No   \n",
       "145458       3.0       2.0     15.1     26.0         No            No   \n",
       "145459       8.0       8.0     15.0     20.9         No           NaN   \n",
       "\n",
       "        Latitude  Longitude  Region  \n",
       "0       -36.0737   146.9135       0  \n",
       "1       -36.0737   146.9135       0  \n",
       "2       -36.0737   146.9135       0  \n",
       "3       -36.0737   146.9135       0  \n",
       "4       -36.0737   146.9135       0  \n",
       "...          ...        ...     ...  \n",
       "145455  -25.3444   131.0369       3  \n",
       "145456  -25.3444   131.0369       3  \n",
       "145457  -25.3444   131.0369       3  \n",
       "145458  -25.3444   131.0369       3  \n",
       "145459  -25.3444   131.0369       3  \n",
       "\n",
       "[145460 rows x 26 columns]"
      ]
     },
     "execution_count": 279,
     "metadata": {},
     "output_type": "execute_result"
    }
   ],
   "source": [
    "df = df.merge(coord_ciudades, on='Location', how='left')\n",
    "df"
   ]
  },
  {
   "cell_type": "code",
   "execution_count": 280,
   "id": "e8dd5909",
   "metadata": {},
   "outputs": [],
   "source": [
    "df['Date'] = pd.to_datetime(df['Date'])\n",
    "warnings.filterwarnings(\"ignore\")"
   ]
  },
  {
   "cell_type": "code",
   "execution_count": 281,
   "id": "bda41c36",
   "metadata": {},
   "outputs": [
    {
     "name": "stdout",
     "output_type": "stream",
     "text": [
      "['Date', 'Location', 'MinTemp', 'MaxTemp', 'Rainfall', 'Evaporation', 'Sunshine', 'WindGustDir', 'WindGustSpeed', 'WindDir9am', 'WindDir3pm', 'WindSpeed9am', 'WindSpeed3pm', 'Humidity9am', 'Humidity3pm', 'Pressure9am', 'Pressure3pm', 'Cloud9am', 'Cloud3pm', 'Temp9am', 'Temp3pm', 'RainToday', 'RainTomorrow', 'Latitude', 'Longitude', 'Region']\n"
     ]
    }
   ],
   "source": [
    "print(df.columns.tolist())"
   ]
  },
  {
   "cell_type": "markdown",
   "id": "f646c717",
   "metadata": {},
   "source": [
    "### Análisis descriptivo"
   ]
  },
  {
   "cell_type": "markdown",
   "id": "d3da118f",
   "metadata": {},
   "source": [
    "**División cruzada train - test**"
   ]
  },
  {
   "cell_type": "code",
   "execution_count": 282,
   "id": "c268c734",
   "metadata": {},
   "outputs": [
    {
     "name": "stdout",
     "output_type": "stream",
     "text": [
      "Fueron borrados 3267 datos\n"
     ]
    }
   ],
   "source": [
    "# Imputamos la variable RainTomorrow antes de dividir el dataset ya que no puede haber nulos en esta variable\n",
    "# Decidimos esto ya que es la variable a predecir.\n",
    "df['RainTomorrow_from_next'] = df.groupby('Location')['RainToday'].shift(-1)\n",
    "df.loc[df['RainTomorrow'].isna(), 'RainTomorrow'] = \\\n",
    "    df.loc[df['RainTomorrow'].isna(), 'RainTomorrow_from_next']\n",
    "df = df.drop('RainTomorrow_from_next', axis=1)\n",
    "\n",
    "#Eliminamos las filas que no pudieron ser impuitadas de ninguna forma\n",
    "print('Fueron borrados', df['RainTomorrow'].isna().sum(), 'datos')\n",
    "df = df[df['RainTomorrow'].notna()].reset_index(drop=True)"
   ]
  },
  {
   "cell_type": "code",
   "execution_count": 283,
   "id": "051e9bc7",
   "metadata": {},
   "outputs": [
    {
     "name": "stdout",
     "output_type": "stream",
     "text": [
      "Train size: 113754\n",
      "Test size: 28439\n"
     ]
    }
   ],
   "source": [
    "# Dividir en X e y\n",
    "X = df.drop(columns='RainTomorrow')\n",
    "y = df['RainTomorrow']\n",
    "\n",
    "# Split train-test\n",
    "X_train, X_test, y_train, y_test = train_test_split(\n",
    "    X, y, \n",
    "    test_size=0.2, \n",
    "    random_state=42,\n",
    "    stratify=y  # Mantener proporción de clases\n",
    ")\n",
    "\n",
    "print(f\"Train size: {len(X_train)}\")\n",
    "print(f\"Test size: {len(X_test)}\")"
   ]
  },
  {
   "cell_type": "markdown",
   "id": "2b436cef",
   "metadata": {},
   "source": [
    "**Análisis y decisión sobre datos faltantes**"
   ]
  },
  {
   "cell_type": "code",
   "execution_count": 284,
   "id": "562c8bbe",
   "metadata": {},
   "outputs": [],
   "source": [
    "train = pd.concat([X_train, y_train], axis=1)\n",
    "test = pd.concat([X_test, y_test], axis=1)\n",
    "\n",
    "filas_antes_train = len(train)\n",
    "filas_antes_test = len(test)"
   ]
  },
  {
   "cell_type": "markdown",
   "id": "1f88f203",
   "metadata": {},
   "source": [
    "Rainfall\n"
   ]
  },
  {
   "cell_type": "code",
   "execution_count": 285,
   "id": "e47f828e",
   "metadata": {},
   "outputs": [],
   "source": [
    "#Creamos la columna Rainfall_temp temporal para almacenar la media regional del día\n",
    "train['Rainfall_temp'] = train.groupby(['Region', 'Date'])['Rainfall'].transform(lambda x: x.fillna(x.mean()))\n",
    "\n",
    "#Si RainToday = 'No', Rainfall = 0\n",
    "train.loc[train['RainToday'] == 'No', 'Rainfall'] = train.loc[train['RainToday'] == 'No', 'Rainfall'].fillna(0)\n",
    "\n",
    "#Si RainToday = 'Yes' o nulo, usar media regional diaria\n",
    "train.loc[train['Rainfall'].isna() & ((train['RainToday'] == 'Yes') | (train['RainToday'].isna())), 'Rainfall'] = \\\n",
    "    train.loc[train['Rainfall'].isna() & ((train['RainToday'] == 'Yes') | (train['RainToday'].isna())), 'Rainfall_temp']\n",
    "\n",
    "#Si RainToday = 'Yes' y la media regional diaria = 0 → forzar a 1 mm\n",
    "train.loc[(train['RainToday'] == 'Yes') & (train['Rainfall'] == 0), 'Rainfall'] = 1\n",
    "\n",
    "#Eliminamos la columna temporal\n",
    "train.drop('Rainfall_temp', axis=1, inplace=True)"
   ]
  },
  {
   "cell_type": "code",
   "execution_count": 286,
   "id": "ba90b2ce",
   "metadata": {},
   "outputs": [],
   "source": [
    "#Creamos la columna Rainfall_temp temporal para almacenar la media regional del día\n",
    "test['Rainfall_temp'] = test.groupby(['Region', 'Date'])['Rainfall'].transform(lambda x: x.fillna(x.mean()))\n",
    "\n",
    "#Si RainToday = 'No', Rainfall = 0\n",
    "test.loc[test['RainToday'] == 'No', 'Rainfall'] = test.loc[test['RainToday'] == 'No', 'Rainfall'].fillna(0)\n",
    "\n",
    "#Si RainToday = 'Yes' o nulo, usar media regional diaria\n",
    "test.loc[test['Rainfall'].isna() & ((test['RainToday'] == 'Yes') | (test['RainToday'].isna())), 'Rainfall'] = \\\n",
    "    test.loc[test['Rainfall'].isna() & ((test['RainToday'] == 'Yes') | (test['RainToday'].isna())), 'Rainfall_temp']\n",
    "\n",
    "#Si RainToday = 'Yes' y la media regional diaria = 0 → forzar a 1 mm\n",
    "test.loc[(test['RainToday'] == 'Yes') & (test['Rainfall'] == 0), 'Rainfall'] = 1\n",
    "\n",
    "#Eliminamos la columna temporal\n",
    "test.drop('Rainfall_temp', axis=1, inplace=True)"
   ]
  },
  {
   "cell_type": "markdown",
   "id": "d92393ec",
   "metadata": {},
   "source": [
    "RainToday\n"
   ]
  },
  {
   "cell_type": "code",
   "execution_count": 287,
   "id": "26d46f92",
   "metadata": {},
   "outputs": [
    {
     "name": "stdout",
     "output_type": "stream",
     "text": [
      "Fueron borrados 0 datos\n"
     ]
    }
   ],
   "source": [
    "#Imputamos RainToday con Rainfall>1mm en el mismo lugar y día\n",
    "train['RainToday'] = (train['Rainfall'] > 1).map({True: 'Yes', False: 'No'})\n",
    "\n",
    "#Los datos que no pudieron ser imputados, son borrados\n",
    "print('Fueron borrados', train['Rainfall'].isna().sum(), 'datos')\n",
    "train = train.dropna(subset=['Rainfall'])"
   ]
  },
  {
   "cell_type": "code",
   "execution_count": 288,
   "id": "8e4bba5f",
   "metadata": {},
   "outputs": [
    {
     "name": "stdout",
     "output_type": "stream",
     "text": [
      "Fueron borrados 25 datos\n"
     ]
    }
   ],
   "source": [
    "#Imputamos RainToday con Rainfall>1mm en el mismo lugar y día\n",
    "test['RainToday'] = (test['Rainfall'] > 1).map({True: 'Yes', False: 'No'})\n",
    "\n",
    "#Los datos que no pudieron ser imputados, son borrados\n",
    "print('Fueron borrados', test['Rainfall'].isna().sum(), 'datos')\n",
    "test = test.dropna(subset=['Rainfall'])"
   ]
  },
  {
   "cell_type": "markdown",
   "id": "a2018500",
   "metadata": {},
   "source": [
    "WindGustDir, WindDir9am, WindDir3pm"
   ]
  },
  {
   "cell_type": "code",
   "execution_count": 289,
   "id": "2f8ed759",
   "metadata": {},
   "outputs": [
    {
     "name": "stdout",
     "output_type": "stream",
     "text": [
      "Fueron borrados 36 datos\n"
     ]
    }
   ],
   "source": [
    "#Variables Categóricas (WindGustDir, WindDir9am, WindDir3pm) fueron imputadas por moda por región y por date\n",
    "for col in ['WindGustSpeed', 'WindSpeed9am', 'WindSpeed3pm']:\n",
    "    train[col] = train.groupby(['Region', 'Date'])[col].transform(\n",
    "        lambda x: x.fillna(x.median())\n",
    "    )\n",
    "#Los datos que no pudieron ser imputados, son borrados\n",
    "print('Fueron borrados', train['WindGustSpeed'].isna().sum()+train['WindSpeed9am'].isna().sum()+train['WindSpeed3pm'].isna().sum(), 'datos')\n",
    "train = train.dropna(subset=['WindGustSpeed', 'WindSpeed9am', 'WindSpeed3pm'])"
   ]
  },
  {
   "cell_type": "code",
   "execution_count": 290,
   "id": "d470d336",
   "metadata": {},
   "outputs": [
    {
     "name": "stdout",
     "output_type": "stream",
     "text": [
      "Fueron borrados 397 datos\n"
     ]
    }
   ],
   "source": [
    "#Variables Categóricas (WindGustDir, WindDir9am, WindDir3pm) fueron imputadas por moda por región y por date\n",
    "for col in ['WindGustSpeed', 'WindSpeed9am', 'WindSpeed3pm']:\n",
    "    test[col] = test.groupby(['Region', 'Date'])[col].transform(\n",
    "        lambda x: x.fillna(x.median())\n",
    "    )\n",
    "#Los datos que no pudieron ser imputados, son borrados\n",
    "print('Fueron borrados', test['WindGustSpeed'].isna().sum()+test['WindSpeed9am'].isna().sum()+test['WindSpeed3pm'].isna().sum(), 'datos')\n",
    "test = test.dropna(subset=['WindGustSpeed', 'WindSpeed9am', 'WindSpeed3pm'])"
   ]
  },
  {
   "cell_type": "markdown",
   "id": "d1348720",
   "metadata": {},
   "source": [
    "Pressure9am, Pressure3pm"
   ]
  },
  {
   "cell_type": "code",
   "execution_count": 291,
   "id": "8a0c06a4",
   "metadata": {},
   "outputs": [
    {
     "name": "stdout",
     "output_type": "stream",
     "text": [
      "Fueron borrados 0 datos\n"
     ]
    }
   ],
   "source": [
    "#Variables Numéricas - Presión Atmosférica (Pressure9am, Pressure3pm) fueron imputadas según Mediana por Región y Date\n",
    "for col in ['Pressure9am', 'Pressure3pm']:\n",
    "    train[col] = train.groupby(['Region', 'Date'])[col].transform(\n",
    "        lambda x: x.fillna(x.median())\n",
    "    )\n",
    "#Los datos que no pudieron ser imputados, son borrados\n",
    "print('Fueron borrados', train['Pressure9am'].isna().sum()+train['Pressure3pm'].isna().sum(), 'datos')\n",
    "train = train.dropna(subset=['Pressure9am', 'Pressure3pm'])"
   ]
  },
  {
   "cell_type": "code",
   "execution_count": 292,
   "id": "130c6fb6",
   "metadata": {},
   "outputs": [
    {
     "name": "stdout",
     "output_type": "stream",
     "text": [
      "Fueron borrados 583 datos\n"
     ]
    }
   ],
   "source": [
    "#Variables Numéricas - Presión Atmosférica (Pressure9am, Pressure3pm) fueron imputadas según Mediana por Región y Date\n",
    "for col in ['Pressure9am', 'Pressure3pm']:\n",
    "    test[col] = test.groupby(['Region', 'Date'])[col].transform(\n",
    "        lambda x: x.fillna(x.median())\n",
    "    )\n",
    "#Los datos que no pudieron ser imputados, son borrados\n",
    "print('Fueron borrados', test['Pressure9am'].isna().sum()+test['Pressure3pm'].isna().sum(), 'datos')\n",
    "test = test.dropna(subset=['Pressure9am', 'Pressure3pm'])"
   ]
  },
  {
   "cell_type": "markdown",
   "id": "6039970f",
   "metadata": {},
   "source": [
    "MinTemp, MaxTemp, Temp9am, Temp3pm"
   ]
  },
  {
   "cell_type": "code",
   "execution_count": 293,
   "id": "d18d75ee",
   "metadata": {},
   "outputs": [
    {
     "name": "stdout",
     "output_type": "stream",
     "text": [
      "Fueron borrados 1 datos\n"
     ]
    }
   ],
   "source": [
    "#Variables Numéricas - Temperaturas (MinTemp, MaxTemp, Temp9am, Temp3pm) fueron imputadas por date y la media de su región\n",
    "\n",
    "# Imputar con media por Region y Date\n",
    "for col in ['MinTemp', 'MaxTemp', 'Temp9am', 'Temp3pm']:\n",
    "    train[col] = train.groupby(['Region', 'Date'])[col].transform(\n",
    "        lambda x: x.fillna(x.mean())\n",
    "    )\n",
    "    \n",
    "#Los datos que no pudieron ser imputados, son borrados\n",
    "print('Fueron borrados', train['MinTemp'].isna().sum()+train['MaxTemp'].isna().sum()+train['Temp9am'].isna().sum()+train['Temp3pm'].isna().sum(), 'datos')\n",
    "train = train.dropna(subset=['MinTemp', 'MaxTemp', 'Temp9am', 'Temp3pm'])"
   ]
  },
  {
   "cell_type": "code",
   "execution_count": 294,
   "id": "96ad628d",
   "metadata": {},
   "outputs": [
    {
     "name": "stdout",
     "output_type": "stream",
     "text": [
      "Fueron borrados 54 datos\n"
     ]
    }
   ],
   "source": [
    "#Variables Numéricas - Temperaturas (MinTemp, MaxTemp, Temp9am, Temp3pm) fueron imputadas por date y la media de su región\n",
    "\n",
    "# Imputar con media por Region y Date\n",
    "for col in ['MinTemp', 'MaxTemp', 'Temp9am', 'Temp3pm']:\n",
    "    test[col] = test.groupby(['Region', 'Date'])[col].transform(\n",
    "        lambda x: x.fillna(x.mean())\n",
    "    )\n",
    "    \n",
    "#Los datos que no pudieron ser imputados, son borrados\n",
    "print('Fueron borrados', test['MinTemp'].isna().sum()+test['MaxTemp'].isna().sum()+test['Temp9am'].isna().sum()+test['Temp3pm'].isna().sum(), 'datos')\n",
    "test = test.dropna(subset=['MinTemp', 'MaxTemp', 'Temp9am', 'Temp3pm'])"
   ]
  },
  {
   "cell_type": "markdown",
   "id": "e9bdb023",
   "metadata": {},
   "source": [
    "Humidity9am, Humidity3pm"
   ]
  },
  {
   "cell_type": "code",
   "execution_count": 295,
   "id": "cf121e4b",
   "metadata": {},
   "outputs": [
    {
     "name": "stdout",
     "output_type": "stream",
     "text": [
      "Fueron borrados 5 datos\n"
     ]
    }
   ],
   "source": [
    "#Variables Numéricas - Humedad (Humidity9am, Humidity3pm) imputadas por mediana región y date\n",
    "for col in ['Humidity9am', 'Humidity3pm']:\n",
    "    train[col] = train.groupby(['Region', 'Date'])[col].transform(\n",
    "        lambda x: x.fillna(x.median())\n",
    "    )\n",
    "\n",
    "#Los datos que no pudieron ser imputados, son borrados\n",
    "print('Fueron borrados', train['Humidity9am'].isna().sum()+train['Humidity3pm'].isna().sum(), 'datos')\n",
    "train = train.dropna(subset=['Humidity9am', 'Humidity3pm'])"
   ]
  },
  {
   "cell_type": "code",
   "execution_count": 296,
   "id": "e0423c3a",
   "metadata": {},
   "outputs": [
    {
     "name": "stdout",
     "output_type": "stream",
     "text": [
      "Fueron borrados 48 datos\n"
     ]
    }
   ],
   "source": [
    "#Variables Numéricas - Humedad (Humidity9am, Humidity3pm) imputadas por mediana región y date\n",
    "for col in ['Humidity9am', 'Humidity3pm']:\n",
    "    test[col] = test.groupby(['Region', 'Date'])[col].transform(\n",
    "        lambda x: x.fillna(x.median())\n",
    "    )\n",
    "\n",
    "#Los datos que no pudieron ser imputados, son borrados\n",
    "print('Fueron borrados', test['Humidity9am'].isna().sum()+test['Humidity3pm'].isna().sum(), 'datos')\n",
    "test = test.dropna(subset=['Humidity9am', 'Humidity3pm'])"
   ]
  },
  {
   "cell_type": "markdown",
   "id": "bf5427dc",
   "metadata": {},
   "source": [
    "WindGustSpeed, WindSpeed9am y WindSpeed3pm"
   ]
  },
  {
   "cell_type": "code",
   "execution_count": 297,
   "id": "ef39e607",
   "metadata": {},
   "outputs": [
    {
     "name": "stdout",
     "output_type": "stream",
     "text": [
      "Fueron borrados 0 datos\n"
     ]
    }
   ],
   "source": [
    "#WindGustSpeed, WindSpeed9am y WindSpeed3pm fueron imputadas por mediana en la región\n",
    "for col in ['WindGustSpeed', 'WindSpeed9am', 'WindSpeed3pm']:\n",
    "    train[col] = train.groupby('Region')[col].transform(\n",
    "        lambda x: x.fillna(x.median())\n",
    "    )\n",
    "#Los datos que no pudieron ser imputados, son borrados\n",
    "print('Fueron borrados', train['WindGustSpeed'].isna().sum()+train['WindSpeed9am'].isna().sum()+train['WindSpeed3pm'].isna().sum(), 'datos')\n",
    "train = train.dropna(subset=['WindGustSpeed', 'WindSpeed9am', 'WindSpeed3pm'])"
   ]
  },
  {
   "cell_type": "code",
   "execution_count": 298,
   "id": "89af02e0",
   "metadata": {},
   "outputs": [
    {
     "name": "stdout",
     "output_type": "stream",
     "text": [
      "Fueron borrados 0 datos\n"
     ]
    }
   ],
   "source": [
    "#WindGustSpeed, WindSpeed9am y WindSpeed3pm fueron imputadas por mediana en la región\n",
    "for col in ['WindGustSpeed', 'WindSpeed9am', 'WindSpeed3pm']:\n",
    "    test[col] = test.groupby('Region')[col].transform(\n",
    "        lambda x: x.fillna(x.median())\n",
    "    )\n",
    "#Los datos que no pudieron ser imputados, son borrados\n",
    "print('Fueron borrados', test['WindGustSpeed'].isna().sum()+test['WindSpeed9am'].isna().sum()+test['WindSpeed3pm'].isna().sum(), 'datos')\n",
    "test = test.dropna(subset=['WindGustSpeed', 'WindSpeed9am', 'WindSpeed3pm'])"
   ]
  },
  {
   "cell_type": "markdown",
   "id": "07708110",
   "metadata": {},
   "source": [
    "Cloud9am, Cloud3pm"
   ]
  },
  {
   "cell_type": "code",
   "execution_count": 299,
   "id": "1a53bfe9",
   "metadata": {},
   "outputs": [
    {
     "name": "stdout",
     "output_type": "stream",
     "text": [
      "Fueron borrados 277 datos\n"
     ]
    }
   ],
   "source": [
    "#Variables Numéricas - Nubosidad (Cloud9am, Cloud3pm) imputadas por mediana de región y date\n",
    "for col in ['Cloud9am', 'Cloud3pm']:\n",
    "    train[col] = train.groupby(['Region', 'Date'])[col].transform(\n",
    "        lambda x: x.fillna(x.median())\n",
    "    )\n",
    "\n",
    "#Los datos que no pudieron ser imputados, son borrados\n",
    "print('Fueron borrados', train['Cloud9am'].isna().sum()+train['Cloud3pm'].isna().sum(), 'datos')\n",
    "train = train.dropna(subset=['Cloud9am', 'Cloud3pm'])"
   ]
  },
  {
   "cell_type": "code",
   "execution_count": 300,
   "id": "d650975f",
   "metadata": {},
   "outputs": [
    {
     "name": "stdout",
     "output_type": "stream",
     "text": [
      "Fueron borrados 4105 datos\n"
     ]
    }
   ],
   "source": [
    "#Variables Numéricas - Nubosidad (Cloud9am, Cloud3pm) imputadas por mediana de región y date\n",
    "for col in ['Cloud9am', 'Cloud3pm']:\n",
    "    test[col] = test.groupby(['Region', 'Date'])[col].transform(\n",
    "        lambda x: x.fillna(x.median())\n",
    "    )\n",
    "\n",
    "#Los datos que no pudieron ser imputados, son borrados\n",
    "print('Fueron borrados', test['Cloud9am'].isna().sum()+test['Cloud3pm'].isna().sum(), 'datos')\n",
    "test = test.dropna(subset=['Cloud9am', 'Cloud3pm'])"
   ]
  },
  {
   "cell_type": "markdown",
   "id": "904b1504",
   "metadata": {},
   "source": [
    "Evaporation"
   ]
  },
  {
   "cell_type": "code",
   "execution_count": 301,
   "id": "6f69a1fb",
   "metadata": {},
   "outputs": [
    {
     "name": "stdout",
     "output_type": "stream",
     "text": [
      "Fueron borrados 85 datos\n"
     ]
    }
   ],
   "source": [
    "#Variable Numérica - Evaporación (Evaporation) fue imputada por la Mediana por región y date\n",
    "train['Evaporation'] = train.groupby(['Region', 'Date'])['Evaporation'].transform(\n",
    "    lambda x: x.fillna(x.median())\n",
    ")\n",
    "#Los datos que no pudieron ser imputados, son borrados\n",
    "print('Fueron borrados', train['Evaporation'].isna().sum(), 'datos')\n",
    "train = train.dropna(subset=['Evaporation'])"
   ]
  },
  {
   "cell_type": "code",
   "execution_count": 302,
   "id": "943c59ad",
   "metadata": {},
   "outputs": [
    {
     "name": "stdout",
     "output_type": "stream",
     "text": [
      "Fueron borrados 1113 datos\n"
     ]
    }
   ],
   "source": [
    "#Variable Numérica - Evaporación (Evaporation) fue imputada por la Mediana por región y date\n",
    "test['Evaporation'] = test.groupby(['Region', 'Date'])['Evaporation'].transform(\n",
    "    lambda x: x.fillna(x.median())\n",
    ")\n",
    "#Los datos que no pudieron ser imputados, son borrados\n",
    "print('Fueron borrados', test['Evaporation'].isna().sum(), 'datos')\n",
    "test = test.dropna(subset=['Evaporation'])"
   ]
  },
  {
   "cell_type": "markdown",
   "id": "4a1a9121",
   "metadata": {},
   "source": [
    "Direcciones de Viento (WindGustDir, WindDir9am, WindDir3pm)"
   ]
  },
  {
   "cell_type": "code",
   "execution_count": 303,
   "id": "ca2c9394",
   "metadata": {},
   "outputs": [
    {
     "name": "stdout",
     "output_type": "stream",
     "text": [
      "Fueron borrados 18 datos\n"
     ]
    }
   ],
   "source": [
    "#Variables Categóricas - Direcciones de Viento (WindGustDir, WindDir9am, WindDir3pm) fueron imputadas por Moda por región y date\n",
    "for col in ['WindGustDir', 'WindDir9am', 'WindDir3pm']:\n",
    "    train[col] = train.groupby(['Region', 'Date'])[col].transform(\n",
    "        lambda x: x.fillna(x.mode()[0] if len(x.mode()) > 0 else x.iloc[0])\n",
    "    )\n",
    "    \n",
    "#Los datos que no pudieron ser imputados, son borrados\n",
    "print('Fueron borrados', train['WindGustDir'].isna().sum()+train['WindDir9am'].isna().sum()+train['WindDir3pm'].isna().sum(), 'datos')\n",
    "train = train.dropna(subset=['WindGustDir', 'WindDir9am', 'WindDir3pm'])"
   ]
  },
  {
   "cell_type": "code",
   "execution_count": 304,
   "id": "7b9ab35c",
   "metadata": {},
   "outputs": [
    {
     "name": "stdout",
     "output_type": "stream",
     "text": [
      "Fueron borrados 71 datos\n"
     ]
    }
   ],
   "source": [
    "#Variables Categóricas - Direcciones de Viento (WindGustDir, WindDir9am, WindDir3pm) fueron imputadas por Moda por región y date\n",
    "for col in ['WindGustDir', 'WindDir9am', 'WindDir3pm']:\n",
    "    test[col] = test.groupby(['Region', 'Date'])[col].transform(\n",
    "        lambda x: x.fillna(x.mode()[0] if len(x.mode()) > 0 else x.iloc[0])\n",
    "    )\n",
    "    \n",
    "#Los datos que no pudieron ser imputados, son borrados\n",
    "print('Fueron borrados', test['WindGustDir'].isna().sum()+test['WindDir9am'].isna().sum()+test['WindDir3pm'].isna().sum(), 'datos')\n",
    "test = test.dropna(subset=['WindGustDir', 'WindDir9am', 'WindDir3pm'])"
   ]
  },
  {
   "cell_type": "markdown",
   "id": "9e9965dc",
   "metadata": {},
   "source": [
    "Sunshine"
   ]
  },
  {
   "cell_type": "code",
   "execution_count": 305,
   "id": "5c9ac047",
   "metadata": {},
   "outputs": [
    {
     "name": "stdout",
     "output_type": "stream",
     "text": [
      "Fueron borrados 280 datos\n"
     ]
    }
   ],
   "source": [
    "#Variables Numéricas - Duración de Sol (Sunshine) fue imputada por la Mediana por región y date\n",
    "train['Sunshine'] = train.groupby(['Region', 'Date'])['Sunshine'].transform(\n",
    "    lambda x: x.fillna(x.median())\n",
    ")\n",
    "#Los datos que no pudieron ser imputados, son borrados\n",
    "print('Fueron borrados', train['Sunshine'].isna().sum(), 'datos')\n",
    "train = train.dropna(subset=['Sunshine'])"
   ]
  },
  {
   "cell_type": "code",
   "execution_count": 306,
   "id": "bdba8d65",
   "metadata": {},
   "outputs": [
    {
     "name": "stdout",
     "output_type": "stream",
     "text": [
      "Fueron borrados 708 datos\n"
     ]
    }
   ],
   "source": [
    "#Variables Numéricas - Duración de Sol (Sunshine) fue imputada por la Mediana por región y date\n",
    "test['Sunshine'] = test.groupby(['Region', 'Date'])['Sunshine'].transform(\n",
    "    lambda x: x.fillna(x.median())\n",
    ")\n",
    "#Los datos que no pudieron ser imputados, son borrados\n",
    "print('Fueron borrados', test['Sunshine'].isna().sum(), 'datos')\n",
    "test = test.dropna(subset=['Sunshine'])"
   ]
  },
  {
   "cell_type": "markdown",
   "id": "07833d6b",
   "metadata": {},
   "source": [
    "Total"
   ]
  },
  {
   "cell_type": "code",
   "execution_count": 307,
   "id": "ae46d249",
   "metadata": {},
   "outputs": [
    {
     "name": "stdout",
     "output_type": "stream",
     "text": [
      "Date             0\n",
      "Location         0\n",
      "MinTemp          0\n",
      "MaxTemp          0\n",
      "Rainfall         0\n",
      "Evaporation      0\n",
      "Sunshine         0\n",
      "WindGustDir      0\n",
      "WindGustSpeed    0\n",
      "WindDir9am       0\n",
      "WindDir3pm       0\n",
      "WindSpeed9am     0\n",
      "WindSpeed3pm     0\n",
      "Humidity9am      0\n",
      "Humidity3pm      0\n",
      "Pressure9am      0\n",
      "Pressure3pm      0\n",
      "Cloud9am         0\n",
      "Cloud3pm         0\n",
      "Temp9am          0\n",
      "Temp3pm          0\n",
      "RainToday        0\n",
      "Latitude         0\n",
      "Longitude        0\n",
      "Region           0\n",
      "RainTomorrow     0\n",
      "dtype: int64\n",
      "Date             0\n",
      "Location         0\n",
      "MinTemp          0\n",
      "MaxTemp          0\n",
      "Rainfall         0\n",
      "Evaporation      0\n",
      "Sunshine         0\n",
      "WindGustDir      0\n",
      "WindGustSpeed    0\n",
      "WindDir9am       0\n",
      "WindDir3pm       0\n",
      "WindSpeed9am     0\n",
      "WindSpeed3pm     0\n",
      "Humidity9am      0\n",
      "Humidity3pm      0\n",
      "Pressure9am      0\n",
      "Pressure3pm      0\n",
      "Cloud9am         0\n",
      "Cloud3pm         0\n",
      "Temp9am          0\n",
      "Temp3pm          0\n",
      "RainToday        0\n",
      "Latitude         0\n",
      "Longitude        0\n",
      "Region           0\n",
      "RainTomorrow     0\n",
      "dtype: int64\n"
     ]
    }
   ],
   "source": [
    "print(train.isnull().sum())\n",
    "print(test.isnull().sum())"
   ]
  },
  {
   "cell_type": "code",
   "execution_count": 308,
   "id": "98cc2b39",
   "metadata": {},
   "outputs": [
    {
     "name": "stdout",
     "output_type": "stream",
     "text": [
      "Cantidad total de filas eliminadas de train:  633\n",
      "Cantidad total de filas eliminadas de test:  5084\n"
     ]
    }
   ],
   "source": [
    "filas_despues_train = len(train)\n",
    "print('Cantidad total de filas eliminadas de train: ', filas_antes_train - filas_despues_train)\n",
    "\n",
    "filas_despues_test = len(test)\n",
    "print('Cantidad total de filas eliminadas de test: ', filas_antes_test - filas_despues_test)"
   ]
  },
  {
   "cell_type": "markdown",
   "id": "c3cf9b99",
   "metadata": {},
   "source": [
    "**División y elección de variables importantes**"
   ]
  },
  {
   "cell_type": "code",
   "execution_count": 309,
   "id": "421db008",
   "metadata": {},
   "outputs": [],
   "source": [
    "# reconstruir X,y desde train/test (post-imputaciones)\n",
    "X_train = train.drop(columns=['RainTomorrow']).reset_index(drop=True)\n",
    "X_test  = test.drop(columns=['RainTomorrow']).reset_index(drop=True)\n",
    "y_train = train['RainTomorrow'].reset_index(drop=True)\n",
    "y_test  = test['RainTomorrow'].reset_index(drop=True)\n",
    "\n",
    "cols = ['MinTemp', 'MaxTemp', 'Rainfall', 'Evaporation', 'Sunshine', 'WindGustDir',\n",
    "        'WindGustSpeed', 'WindDir9am', 'WindDir3pm', 'WindSpeed9am', 'WindSpeed3pm',\n",
    "        'Humidity9am', 'Humidity3pm', 'Pressure9am', 'Pressure3pm', 'Cloud9am', 'Cloud3pm',\n",
    "        'Temp9am', 'Temp3pm', 'RainToday', 'Region']\n",
    "\n",
    "X_train = X_train[cols]\n",
    "X_test  = X_test[cols]"
   ]
  },
  {
   "cell_type": "markdown",
   "id": "1a18d1fd",
   "metadata": {},
   "source": [
    "**Visualización de datos**"
   ]
  },
  {
   "cell_type": "code",
   "execution_count": 310,
   "id": "204f3ea1",
   "metadata": {},
   "outputs": [],
   "source": [
    "show = X_train[['MinTemp', 'MaxTemp', 'Rainfall', 'Evaporation', 'Sunshine',\n",
    "                'WindSpeed9am', 'WindSpeed3pm', 'Humidity9am', 'Humidity3pm',\n",
    "                'Pressure9am', 'Pressure3pm', 'Cloud9am', 'Cloud3pm', 'Temp9am',\n",
    "                'Temp3pm']].copy()"
   ]
  },
  {
   "cell_type": "code",
   "execution_count": 311,
   "id": "1f630d12",
   "metadata": {},
   "outputs": [
    {
     "data": {
      "image/png": "[encoded data removed]",
      "text/plain": [
       "<Figure size 1600x1600 with 16 Axes>"
      ]
     },
     "metadata": {},
     "output_type": "display_data"
    }
   ],
   "source": [
    "cols = 4\n",
    "num_vars = len(show.columns)\n",
    "rows = (num_vars + cols - 1) // cols\n",
    "\n",
    "fig, axes = plt.subplots(nrows=rows, ncols=cols, figsize=(16, 4*rows))\n",
    "axes = axes.flatten()\n",
    "\n",
    "for i, var in enumerate(show.columns):\n",
    "    sns.boxplot(data=show, x=var, ax=axes[i], color='skyblue')\n",
    "    axes[i].set_title(f'{var}', fontsize=10)\n",
    "    axes[i].set_xlabel('')\n",
    "    axes[i].set_ylabel('')\n",
    "\n",
    "for j in range(i+1, len(axes)):\n",
    "    axes[j].set_visible(False)\n",
    "\n",
    "plt.tight_layout()\n",
    "plt.show()"
   ]
  },
  {
   "cell_type": "markdown",
   "id": "a721fa0b",
   "metadata": {},
   "source": [
    "El conjunto de datos, visualizado a través de los diagramas de caja (boxplots), muestra que la mayoría de las variables, incluyendo Rainfall, Evaporation, Sunshine, y las de Viento y Presión, exhiben una distribución altamente asimétrica y presentan una cantidad significativa de valores atípicos (outliers). Por otro lado, variables como MinTemp, MaxTemp y Humedad tienen distribuciones más simétricas o agrupadas, aunque también contienen atípicos en los extremos."
   ]
  },
  {
   "cell_type": "code",
   "execution_count": 312,
   "id": "7ec1c045",
   "metadata": {},
   "outputs": [
    {
     "data": {
      "image/png": "[encoded data removed]",
      "text/plain": [
       "<Figure size 1000x800 with 16 Axes>"
      ]
     },
     "metadata": {},
     "output_type": "display_data"
    }
   ],
   "source": [
    "show.hist(figsize=(10,8))\n",
    "plt.suptitle(\"Histogramas de variables numéricas\")\n",
    "plt.tight_layout()\n",
    "plt.show()"
   ]
  },
  {
   "cell_type": "markdown",
   "id": "5ce046a2",
   "metadata": {},
   "source": [
    "Los histogramas confirman una diversidad de formas de distribución entre las variables numéricas. La mayoría de las variables relacionadas con el clima (Rainfall, Evaporation, WindSpeed) muestran una fuerte asimetría positiva (sesgo a la derecha), con valores concentrados cerca de cero, indicando muchos días con poca o nula ocurrencia. En contraste, las variables de Temperatura (MinTemp, MaxTemp, Temp9am, Temp3pm) y Presión presentan distribuciones más cercanas a la normal (o ligeramente sesgadas), mientras que las de Humedad tienden a un sesgo negativo o son más uniformes."
   ]
  },
  {
   "cell_type": "code",
   "execution_count": 313,
   "id": "322bbe85",
   "metadata": {},
   "outputs": [],
   "source": [
    "# sns.pairplot(show)\n",
    "# plt.title('Scatterplot entre variables')\n",
    "# plt.show()"
   ]
  },
  {
   "cell_type": "code",
   "execution_count": 314,
   "id": "8a3b2199",
   "metadata": {},
   "outputs": [
    {
     "data": {
      "image/png": "[encoded data removed]",
      "text/plain": [
       "<Figure size 640x480 with 2 Axes>"
      ]
     },
     "metadata": {},
     "output_type": "display_data"
    }
   ],
   "source": [
    "corrmat = show.corr()\n",
    "\n",
    "sns.heatmap(corrmat, vmax=1, linewidths=.5)\n",
    "plt.title('Matriz de correlación lineal entre variables')\n",
    "plt.show()"
   ]
  },
  {
   "cell_type": "markdown",
   "id": "f03cbe85",
   "metadata": {},
   "source": [
    "La matriz de correlación lineal revela varias relaciones significativas entre las variables. Existe una correlación positiva muy fuerte entre las variables medidas en la mañana y la tarde, como Temp9am y Temp3pm, MinTemp y MaxTemp, y Cloud9am y Cloud3pm. También se observa una fuerte correlación negativa entre la Presión de la mañana y la tarde con la Temperatura. Además, Sunshine (horas de sol) y Cloud9am/Cloud3pm (nubosidad) también presentan correlación negativa entre ellas. Por último, la Rainfall (precipitación) muestra correlaciones positivas débiles con variables de humedad y nubosidad, mientras que la mayoría de las demás variables mantienen correlaciones débiles o nulas entre sí."
   ]
  },
  {
   "cell_type": "markdown",
   "id": "832336cf",
   "metadata": {},
   "source": [
    "**Codificación de variables categóricas**"
   ]
  },
  {
   "cell_type": "code",
   "execution_count": 315,
   "id": "a9817df4",
   "metadata": {},
   "outputs": [],
   "source": [
    "X_train['RainToday'] = X_train['RainToday'].map({'No': 0, 'Yes': 1})\n",
    "X_test['RainToday']  = X_test['RainToday'].map({'No': 0, 'Yes': 1})"
   ]
  },
  {
   "cell_type": "code",
   "execution_count": 316,
   "id": "c44f7319",
   "metadata": {},
   "outputs": [],
   "source": [
    "y_train = y_train.map({'No':0, 'Yes':1})\n",
    "y_test  = y_test.map({'No':0, 'Yes':1})"
   ]
  },
  {
   "cell_type": "code",
   "execution_count": 317,
   "id": "cbc913cf",
   "metadata": {},
   "outputs": [],
   "source": [
    "X_all = pd.concat([X_train, X_test], axis=0)\n",
    "X_all = pd.get_dummies(X_all, drop_first=True)\n",
    "\n",
    "X_train = X_all.iloc[:len(X_train), :].reset_index(drop=True)\n",
    "X_test  = X_all.iloc[len(X_train): , :].reset_index(drop=True)"
   ]
  },
  {
   "cell_type": "markdown",
   "id": "57d74587",
   "metadata": {},
   "source": [
    "**Estandarización/escalado de datos.**"
   ]
  },
  {
   "cell_type": "code",
   "execution_count": 318,
   "id": "560a8fed",
   "metadata": {},
   "outputs": [],
   "source": [
    "# Estandarizar todas las columnas (ya son todas numéricas)\n",
    "scaler = StandardScaler()\n",
    "X_train_scaled = scaler.fit_transform(X_train)\n",
    "X_test_scaled = scaler.transform(X_test)"
   ]
  },
  {
   "cell_type": "markdown",
   "id": "c4ca2e7a",
   "metadata": {},
   "source": [
    "## Regresión logística"
   ]
  },
  {
   "cell_type": "markdown",
   "id": "0518b500",
   "metadata": {},
   "source": [
    "Debido a que el dataset no esta balanceado, se utiliza class_weight='balanced' para dar mayor peso a la clase minoritaria (\"lluvia\") y evitar que el modelo se sesgue hacia la predicción de la clase mayoritaria (no lluvia)"
   ]
  },
  {
   "cell_type": "code",
   "execution_count": 319,
   "id": "620a77f9",
   "metadata": {},
   "outputs": [],
   "source": [
    "# Entrenar regresión logística\n",
    "model = LogisticRegression(class_weight='balanced', random_state=42, max_iter=1000)\n",
    "model.fit(X_train_scaled, y_train)\n",
    "\n",
    "y_pred = model.predict(X_test_scaled)\n",
    "y_pred = y_pred.ravel()"
   ]
  },
  {
   "cell_type": "code",
   "execution_count": 325,
   "id": "d77cb6cd",
   "metadata": {},
   "outputs": [
    {
     "data": {
      "text/html": [
       "<div>\n",
       "<style scoped>\n",
       "    .dataframe tbody tr th:only-of-type {\n",
       "        vertical-align: middle;\n",
       "    }\n",
       "\n",
       "    .dataframe tbody tr th {\n",
       "        vertical-align: top;\n",
       "    }\n",
       "\n",
       "    .dataframe thead th {\n",
       "        text-align: right;\n",
       "    }\n",
       "</style>\n",
       "<table border=\"1\" class=\"dataframe\">\n",
       "  <thead>\n",
       "    <tr style=\"text-align: right;\">\n",
       "      <th></th>\n",
       "      <th>Predicciones</th>\n",
       "      <th>Valores</th>\n",
       "    </tr>\n",
       "  </thead>\n",
       "  <tbody>\n",
       "    <tr>\n",
       "      <th>0</th>\n",
       "      <td>1</td>\n",
       "      <td>0</td>\n",
       "    </tr>\n",
       "    <tr>\n",
       "      <th>1</th>\n",
       "      <td>1</td>\n",
       "      <td>1</td>\n",
       "    </tr>\n",
       "    <tr>\n",
       "      <th>2</th>\n",
       "      <td>0</td>\n",
       "      <td>0</td>\n",
       "    </tr>\n",
       "    <tr>\n",
       "      <th>3</th>\n",
       "      <td>0</td>\n",
       "      <td>0</td>\n",
       "    </tr>\n",
       "    <tr>\n",
       "      <th>4</th>\n",
       "      <td>0</td>\n",
       "      <td>0</td>\n",
       "    </tr>\n",
       "    <tr>\n",
       "      <th>...</th>\n",
       "      <td>...</td>\n",
       "      <td>...</td>\n",
       "    </tr>\n",
       "    <tr>\n",
       "      <th>23350</th>\n",
       "      <td>1</td>\n",
       "      <td>1</td>\n",
       "    </tr>\n",
       "    <tr>\n",
       "      <th>23351</th>\n",
       "      <td>0</td>\n",
       "      <td>0</td>\n",
       "    </tr>\n",
       "    <tr>\n",
       "      <th>23352</th>\n",
       "      <td>0</td>\n",
       "      <td>1</td>\n",
       "    </tr>\n",
       "    <tr>\n",
       "      <th>23353</th>\n",
       "      <td>0</td>\n",
       "      <td>0</td>\n",
       "    </tr>\n",
       "    <tr>\n",
       "      <th>23354</th>\n",
       "      <td>0</td>\n",
       "      <td>0</td>\n",
       "    </tr>\n",
       "  </tbody>\n",
       "</table>\n",
       "<p>23355 rows × 2 columns</p>\n",
       "</div>"
      ],
      "text/plain": [
       "       Predicciones  Valores\n",
       "0                 1        0\n",
       "1                 1        1\n",
       "2                 0        0\n",
       "3                 0        0\n",
       "4                 0        0\n",
       "...             ...      ...\n",
       "23350             1        1\n",
       "23351             0        0\n",
       "23352             0        1\n",
       "23353             0        0\n",
       "23354             0        0\n",
       "\n",
       "[23355 rows x 2 columns]"
      ]
     },
     "execution_count": 325,
     "metadata": {},
     "output_type": "execute_result"
    }
   ],
   "source": [
    "pred_test = pd.DataFrame({\n",
    "    'Predicciones': y_pred,\n",
    "    'Valores': y_test.reset_index(drop=True)\n",
    "})\n",
    "\n",
    "pred_test"
   ]
  },
  {
   "cell_type": "markdown",
   "id": "be48bc1a",
   "metadata": {},
   "source": [
    "**Métricas del modelo**"
   ]
  },
  {
   "cell_type": "code",
   "execution_count": 321,
   "id": "897bcd7e",
   "metadata": {},
   "outputs": [
    {
     "name": "stdout",
     "output_type": "stream",
     "text": [
      "Métricas para logreg:\n",
      "Accuracy: 0.7963177049882252\n",
      "Reporte de clasificación:\n",
      "              precision    recall  f1-score   support\n",
      "\n",
      "           0       0.93      0.80      0.86     18142\n",
      "           1       0.53      0.79      0.63      5213\n",
      "\n",
      "    accuracy                           0.80     23355\n",
      "   macro avg       0.73      0.79      0.75     23355\n",
      "weighted avg       0.84      0.80      0.81     23355\n",
      "\n"
     ]
    }
   ],
   "source": [
    "accuracy_logreg = accuracy_score(y_test, y_pred)\n",
    "\n",
    "classification_report_logreg = classification_report(y_test, y_pred)\n",
    "\n",
    "print(\"Métricas para logreg:\")\n",
    "print(f'Accuracy: {accuracy_logreg}')\n",
    "print(\"Reporte de clasificación:\")\n",
    "print(classification_report_logreg)"
   ]
  },
  {
   "cell_type": "markdown",
   "id": "2c59d0de",
   "metadata": {},
   "source": [
    "Este modelo presenta un accuracy general del 79.8%, lo cual indica un buen rendimiento general. Sin embargo, el modelo se desempeña mejor en la tarea de detectar las lluvias (recall de 80%), a costa de la precisión (53%), lo que implica que el modelo genera un número considerable de falsos positivos"
   ]
  },
  {
   "cell_type": "code",
   "execution_count": 322,
   "id": "57947051",
   "metadata": {},
   "outputs": [
    {
     "data": {
      "image/png": "[encoded data removed]",
      "text/plain": [
       "<Figure size 800x600 with 2 Axes>"
      ]
     },
     "metadata": {},
     "output_type": "display_data"
    },
    {
     "name": "stdout",
     "output_type": "stream",
     "text": [
      "Verdaderos Negativos (TN): 14490\n",
      "Falsos Positivos (FP): 3652\n",
      "Falsos Negativos (FN): 1105\n",
      "Verdaderos Positivos (TP): 4108\n"
     ]
    }
   ],
   "source": [
    "cm = confusion_matrix(y_test, y_pred)\n",
    "plt.figure(figsize=(8, 6))\n",
    "sns.heatmap(cm, annot=True, fmt='d', cmap='Blues')\n",
    "plt.xlabel('Predicción')\n",
    "plt.ylabel('Real')\n",
    "plt.title('Matriz de Confusión')\n",
    "plt.show()\n",
    "\n",
    "tn, fp, fn, tp = cm.ravel()\n",
    "print(f\"Verdaderos Negativos (TN): {tn}\")\n",
    "print(f\"Falsos Positivos (FP): {fp}\")\n",
    "print(f\"Falsos Negativos (FN): {fn}\")\n",
    "print(f\"Verdaderos Positivos (TP): {tp}\")"
   ]
  },
  {
   "cell_type": "markdown",
   "id": "dab713a6",
   "metadata": {},
   "source": [
    "El modelo de predicción de lluvia alcanzó un total de 18598 predicciones correctas (sumando verdaderos positivos y negativos). Sin embargo, presentó una clara tendencia a la sobreestimación, evidenciada en la gran diferencia entre los errores: los falsos positivos (predicción de lluvia sin ocurrencia) ascendieron a 3652, mientras que los falsos negativos (lluvia no predicha) fueron notablemente inferiores, sumando solo 1105."
   ]
  },
  {
   "cell_type": "markdown",
   "id": "ebab1014",
   "metadata": {},
   "source": [
    "**Curva ROC**"
   ]
  },
  {
   "cell_type": "code",
   "execution_count": 323,
   "id": "635264c3",
   "metadata": {},
   "outputs": [
    {
     "name": "stdout",
     "output_type": "stream",
     "text": [
      "ROC AUC Score: 0.7934\n"
     ]
    }
   ],
   "source": [
    "fpr, tpr, thresholds = roc_curve(y_test, y_pred)\n",
    "roc_auc = auc(fpr, tpr)\n",
    "\n",
    "print(f\"ROC AUC Score: {roc_auc:.4f}\")"
   ]
  },
  {
   "cell_type": "code",
   "execution_count": 324,
   "id": "a769e84b",
   "metadata": {},
   "outputs": [
    {
     "data": {
      "image/png": "[encoded data removed]",
      "text/plain": [
       "<Figure size 600x400 with 1 Axes>"
      ]
     },
     "metadata": {},
     "output_type": "display_data"
    }
   ],
   "source": [
    "plt.figure(figsize=(6, 4))\n",
    "plt.plot(fpr, tpr, color='darkorange', lw=2, label='Curva ROC (AUC = %0.2f)' % roc_auc)\n",
    "plt.plot([0, 1], [0, 1], color='navy', lw=2, linestyle='--')\n",
    "plt.xlim([0.0, 1.0])\n",
    "plt.ylim([0.0, 1.05])\n",
    "plt.xlabel('Tasa de Falsos Positivos (FPR)')\n",
    "plt.ylabel('Tasa de Verdaderos Positivos (TPR)')\n",
    "plt.title('Curva ROC')\n",
    "plt.legend(loc=\"lower right\")\n",
    "plt.show()"
   ]
  },
  {
   "cell_type": "markdown",
   "id": "7ad363fc",
   "metadata": {},
   "source": [
    "El modelo muestra un desempeño aceptable en la clasificación, reflejado en un Área Bajo la Curva (AUC) de 0.79. Dado que este valor se acerca más a 1.0 que a 0.5, indica que el modelo tiene una buena capacidad de distinguir entre las clases positiva y negativa. Esto implica un buen equilibrio entre la sensibilidad (identificar positivos) y la especificidad (evitar falsos positivos) en el umbral óptimo.\n",
    "\n",
    "Sin embargo, el umbral podria mejorarse, ya que al ser de 0,5 se asume que el costo de cometer un Falso Positivo (FP) es idéntico al costo de cometer un Falso Negativo (FN), y asume que las clases están balanceadas.\n",
    "\n",
    "Por último, se considera que si se ha conseguido un buen fitting con el modelo fijandonos en el valor AUC, pero necesita un ajuste en su calibracion y umbral para presentar mejores resultados."
   ]
  }
 ],
 "metadata": {
  "kernelspec": {
   "display_name": "Python 3",
   "language": "python",
   "name": "python3"
  },
  "language_info": {
   "codemirror_mode": {
    "name": "ipython",
    "version": 3
   },
   "file_extension": ".py",
   "mimetype": "text/x-python",
   "name": "python",
   "nbconvert_exporter": "python",
   "pygments_lexer": "ipython3",
   "version": "3.12.5"
  }
 },
 "nbformat": 4,
 "nbformat_minor": 5
}
